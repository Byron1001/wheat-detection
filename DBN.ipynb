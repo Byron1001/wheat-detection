{
 "cells": [
  {
   "cell_type": "markdown",
   "metadata": {},
   "source": [
    "This implementation utilizes PyTorch to construct the Deep Belief Network(DBN) model"
   ]
  },
  {
   "cell_type": "markdown",
   "metadata": {},
   "source": [
    "# Import Libraries"
   ]
  },
  {
   "cell_type": "code",
   "execution_count": 104,
   "metadata": {},
   "outputs": [
    {
     "name": "stdout",
     "output_type": "stream",
     "text": [
      "Requirement already satisfied: torch in c:\\users\\user\\appdata\\local\\programs\\python\\python310\\lib\\site-packages (2.4.0)Note: you may need to restart the kernel to use updated packages.\n",
      "\n",
      "Requirement already satisfied: numpy in c:\\users\\user\\appdata\\local\\programs\\python\\python310\\lib\\site-packages (2.1.0)\n",
      "Requirement already satisfied: filelock in c:\\users\\user\\appdata\\local\\programs\\python\\python310\\lib\\site-packages (from torch) (3.15.4)\n",
      "Requirement already satisfied: typing-extensions>=4.8.0 in c:\\users\\user\\appdata\\roaming\\python\\python310\\site-packages (from torch) (4.12.2)\n",
      "Requirement already satisfied: sympy in c:\\users\\user\\appdata\\local\\programs\\python\\python310\\lib\\site-packages (from torch) (1.13.2)\n",
      "Requirement already satisfied: networkx in c:\\users\\user\\appdata\\local\\programs\\python\\python310\\lib\\site-packages (from torch) (3.3)\n",
      "Requirement already satisfied: jinja2 in c:\\users\\user\\appdata\\local\\programs\\python\\python310\\lib\\site-packages (from torch) (3.1.4)\n",
      "Requirement already satisfied: fsspec in c:\\users\\user\\appdata\\local\\programs\\python\\python310\\lib\\site-packages (from torch) (2024.6.1)\n",
      "Requirement already satisfied: MarkupSafe>=2.0 in c:\\users\\user\\appdata\\local\\programs\\python\\python310\\lib\\site-packages (from jinja2->torch) (2.1.5)\n",
      "Requirement already satisfied: mpmath<1.4,>=1.1.0 in c:\\users\\user\\appdata\\local\\programs\\python\\python310\\lib\\site-packages (from sympy->torch) (1.3.0)\n"
     ]
    }
   ],
   "source": [
    "%pip install torch numpy"
   ]
  },
  {
   "cell_type": "code",
   "execution_count": 105,
   "metadata": {},
   "outputs": [
    {
     "name": "stdout",
     "output_type": "stream",
     "text": [
      "Requirement already satisfied: torch in c:\\users\\user\\appdata\\local\\programs\\python\\python310\\lib\\site-packages (2.4.0)Note: you may need to restart the kernel to use updated packages.\n",
      "\n",
      "Requirement already satisfied: scikit-learn in c:\\users\\user\\appdata\\local\\programs\\python\\python310\\lib\\site-packages (1.5.1)\n",
      "Requirement already satisfied: filelock in c:\\users\\user\\appdata\\local\\programs\\python\\python310\\lib\\site-packages (from torch) (3.15.4)\n",
      "Requirement already satisfied: typing-extensions>=4.8.0 in c:\\users\\user\\appdata\\roaming\\python\\python310\\site-packages (from torch) (4.12.2)\n",
      "Requirement already satisfied: sympy in c:\\users\\user\\appdata\\local\\programs\\python\\python310\\lib\\site-packages (from torch) (1.13.2)\n",
      "Requirement already satisfied: networkx in c:\\users\\user\\appdata\\local\\programs\\python\\python310\\lib\\site-packages (from torch) (3.3)\n",
      "Requirement already satisfied: jinja2 in c:\\users\\user\\appdata\\local\\programs\\python\\python310\\lib\\site-packages (from torch) (3.1.4)\n",
      "Requirement already satisfied: fsspec in c:\\users\\user\\appdata\\local\\programs\\python\\python310\\lib\\site-packages (from torch) (2024.6.1)\n",
      "Requirement already satisfied: numpy>=1.19.5 in c:\\users\\user\\appdata\\local\\programs\\python\\python310\\lib\\site-packages (from scikit-learn) (2.1.0)\n",
      "Requirement already satisfied: scipy>=1.6.0 in c:\\users\\user\\appdata\\local\\programs\\python\\python310\\lib\\site-packages (from scikit-learn) (1.14.1)\n",
      "Requirement already satisfied: joblib>=1.2.0 in c:\\users\\user\\appdata\\local\\programs\\python\\python310\\lib\\site-packages (from scikit-learn) (1.4.2)\n",
      "Requirement already satisfied: threadpoolctl>=3.1.0 in c:\\users\\user\\appdata\\local\\programs\\python\\python310\\lib\\site-packages (from scikit-learn) (3.5.0)\n",
      "Requirement already satisfied: MarkupSafe>=2.0 in c:\\users\\user\\appdata\\local\\programs\\python\\python310\\lib\\site-packages (from jinja2->torch) (2.1.5)\n",
      "Requirement already satisfied: mpmath<1.4,>=1.1.0 in c:\\users\\user\\appdata\\local\\programs\\python\\python310\\lib\\site-packages (from sympy->torch) (1.3.0)\n"
     ]
    }
   ],
   "source": [
    "# in case torch is not installed\n",
    "%pip install torch scikit-learn"
   ]
  },
  {
   "cell_type": "code",
   "execution_count": 106,
   "metadata": {},
   "outputs": [
    {
     "name": "stdout",
     "output_type": "stream",
     "text": [
      "Requirement already satisfied: pandas in c:\\users\\user\\appdata\\local\\programs\\python\\python310\\lib\\site-packages (2.2.2)\n",
      "Requirement already satisfied: numpy>=1.22.4 in c:\\users\\user\\appdata\\local\\programs\\python\\python310\\lib\\site-packages (from pandas) (2.1.0)\n",
      "Requirement already satisfied: python-dateutil>=2.8.2 in c:\\users\\user\\appdata\\roaming\\python\\python310\\site-packages (from pandas) (2.9.0.post0)\n",
      "Requirement already satisfied: pytz>=2020.1 in c:\\users\\user\\appdata\\local\\programs\\python\\python310\\lib\\site-packages (from pandas) (2024.1)\n",
      "Requirement already satisfied: tzdata>=2022.7 in c:\\users\\user\\appdata\\local\\programs\\python\\python310\\lib\\site-packages (from pandas) (2024.1)\n",
      "Requirement already satisfied: six>=1.5 in c:\\users\\user\\appdata\\roaming\\python\\python310\\site-packages (from python-dateutil>=2.8.2->pandas) (1.16.0)\n",
      "Note: you may need to restart the kernel to use updated packages.\n"
     ]
    }
   ],
   "source": [
    "# in case pandas was not installed\n",
    "%pip install pandas"
   ]
  },
  {
   "cell_type": "code",
   "execution_count": 107,
   "metadata": {},
   "outputs": [
    {
     "name": "stdout",
     "output_type": "stream",
     "text": [
      "Requirement already satisfied: matplotlib in c:\\users\\user\\appdata\\local\\programs\\python\\python310\\lib\\site-packages (3.9.2)\n",
      "Requirement already satisfied: contourpy>=1.0.1 in c:\\users\\user\\appdata\\local\\programs\\python\\python310\\lib\\site-packages (from matplotlib) (1.3.0)\n",
      "Requirement already satisfied: cycler>=0.10 in c:\\users\\user\\appdata\\local\\programs\\python\\python310\\lib\\site-packages (from matplotlib) (0.12.1)\n",
      "Requirement already satisfied: fonttools>=4.22.0 in c:\\users\\user\\appdata\\local\\programs\\python\\python310\\lib\\site-packages (from matplotlib) (4.53.1)\n",
      "Requirement already satisfied: kiwisolver>=1.3.1 in c:\\users\\user\\appdata\\local\\programs\\python\\python310\\lib\\site-packages (from matplotlib) (1.4.5)\n",
      "Requirement already satisfied: numpy>=1.23 in c:\\users\\user\\appdata\\local\\programs\\python\\python310\\lib\\site-packages (from matplotlib) (2.1.0)\n",
      "Requirement already satisfied: packaging>=20.0 in c:\\users\\user\\appdata\\roaming\\python\\python310\\site-packages (from matplotlib) (24.1)\n",
      "Requirement already satisfied: pillow>=8 in c:\\users\\user\\appdata\\local\\programs\\python\\python310\\lib\\site-packages (from matplotlib) (10.4.0)\n",
      "Requirement already satisfied: pyparsing>=2.3.1 in c:\\users\\user\\appdata\\local\\programs\\python\\python310\\lib\\site-packages (from matplotlib) (3.1.4)\n",
      "Requirement already satisfied: python-dateutil>=2.7 in c:\\users\\user\\appdata\\roaming\\python\\python310\\site-packages (from matplotlib) (2.9.0.post0)\n",
      "Requirement already satisfied: six>=1.5 in c:\\users\\user\\appdata\\roaming\\python\\python310\\site-packages (from python-dateutil>=2.7->matplotlib) (1.16.0)\n",
      "Note: you may need to restart the kernel to use updated packages.\n"
     ]
    }
   ],
   "source": [
    "# in case matplotlib was not installed\n",
    "%pip install matplotlib"
   ]
  },
  {
   "cell_type": "code",
   "execution_count": 108,
   "metadata": {},
   "outputs": [
    {
     "name": "stdout",
     "output_type": "stream",
     "text": [
      "Requirement already satisfied: tqdm in c:\\users\\user\\appdata\\local\\programs\\python\\python310\\lib\\site-packages (4.66.5)\n",
      "Requirement already satisfied: colorama in c:\\users\\user\\appdata\\roaming\\python\\python310\\site-packages (from tqdm) (0.4.6)\n",
      "Note: you may need to restart the kernel to use updated packages.\n"
     ]
    }
   ],
   "source": [
    "%pip install tqdm"
   ]
  },
  {
   "cell_type": "code",
   "execution_count": 109,
   "metadata": {},
   "outputs": [
    {
     "name": "stdout",
     "output_type": "stream",
     "text": [
      "Requirement already satisfied: torchsummary in c:\\users\\user\\appdata\\local\\programs\\python\\python310\\lib\\site-packages (1.5.1)\n",
      "Note: you may need to restart the kernel to use updated packages.\n"
     ]
    }
   ],
   "source": [
    "%pip install torchsummary"
   ]
  },
  {
   "cell_type": "code",
   "execution_count": 26,
   "metadata": {},
   "outputs": [
    {
     "name": "stdout",
     "output_type": "stream",
     "text": [
      "Collecting optuna\n",
      "  Downloading optuna-4.0.0-py3-none-any.whl.metadata (16 kB)\n",
      "Collecting alembic>=1.5.0 (from optuna)\n",
      "  Downloading alembic-1.13.2-py3-none-any.whl.metadata (7.4 kB)\n",
      "Collecting colorlog (from optuna)\n",
      "  Downloading colorlog-6.8.2-py3-none-any.whl.metadata (10 kB)\n",
      "Requirement already satisfied: numpy in c:\\users\\user\\appdata\\local\\programs\\python\\python310\\lib\\site-packages (from optuna) (2.1.0)\n",
      "Requirement already satisfied: packaging>=20.0 in c:\\users\\user\\appdata\\roaming\\python\\python310\\site-packages (from optuna) (24.1)\n",
      "Collecting sqlalchemy>=1.3.0 (from optuna)\n",
      "  Downloading SQLAlchemy-2.0.32-cp310-cp310-win_amd64.whl.metadata (9.8 kB)\n",
      "Requirement already satisfied: tqdm in c:\\users\\user\\appdata\\local\\programs\\python\\python310\\lib\\site-packages (from optuna) (4.66.5)\n",
      "Collecting PyYAML (from optuna)\n",
      "  Downloading PyYAML-6.0.2-cp310-cp310-win_amd64.whl.metadata (2.1 kB)\n",
      "Collecting Mako (from alembic>=1.5.0->optuna)\n",
      "  Downloading Mako-1.3.5-py3-none-any.whl.metadata (2.9 kB)\n",
      "Requirement already satisfied: typing-extensions>=4 in c:\\users\\user\\appdata\\roaming\\python\\python310\\site-packages (from alembic>=1.5.0->optuna) (4.12.2)\n",
      "Collecting greenlet!=0.4.17 (from sqlalchemy>=1.3.0->optuna)\n",
      "  Downloading greenlet-3.0.3-cp310-cp310-win_amd64.whl.metadata (3.9 kB)\n",
      "Requirement already satisfied: colorama in c:\\users\\user\\appdata\\roaming\\python\\python310\\site-packages (from colorlog->optuna) (0.4.6)\n",
      "Requirement already satisfied: MarkupSafe>=0.9.2 in c:\\users\\user\\appdata\\local\\programs\\python\\python310\\lib\\site-packages (from Mako->alembic>=1.5.0->optuna) (2.1.5)\n",
      "Downloading optuna-4.0.0-py3-none-any.whl (362 kB)\n",
      "Downloading alembic-1.13.2-py3-none-any.whl (232 kB)\n",
      "Downloading SQLAlchemy-2.0.32-cp310-cp310-win_amd64.whl (2.1 MB)\n",
      "   ---------------------------------------- 0.0/2.1 MB ? eta -:--:--\n",
      "   ---------------------------------------- 0.0/2.1 MB ? eta -:--:--\n",
      "   ---------------------------------------- 0.0/2.1 MB ? eta -:--:--\n",
      "   ---------------------------------------- 0.0/2.1 MB ? eta -:--:--\n",
      "   ---------------------------------------- 0.0/2.1 MB ? eta -:--:--\n",
      "   ---------------------------------------- 0.0/2.1 MB ? eta -:--:--\n",
      "   ----- ---------------------------------- 0.3/2.1 MB ? eta -:--:--\n",
      "   ----- ---------------------------------- 0.3/2.1 MB ? eta -:--:--\n",
      "   ----- ---------------------------------- 0.3/2.1 MB ? eta -:--:--\n",
      "   ----- ---------------------------------- 0.3/2.1 MB ? eta -:--:--\n",
      "   ---------- ----------------------------- 0.5/2.1 MB 364.6 kB/s eta 0:00:05\n",
      "   ---------- ----------------------------- 0.5/2.1 MB 364.6 kB/s eta 0:00:05\n",
      "   ---------- ----------------------------- 0.5/2.1 MB 364.6 kB/s eta 0:00:05\n",
      "   ---------- ----------------------------- 0.5/2.1 MB 364.6 kB/s eta 0:00:05\n",
      "   ---------- ----------------------------- 0.5/2.1 MB 364.6 kB/s eta 0:00:05\n",
      "   --------------- ------------------------ 0.8/2.1 MB 296.9 kB/s eta 0:00:05\n",
      "   --------------- ------------------------ 0.8/2.1 MB 296.9 kB/s eta 0:00:05\n",
      "   --------------- ------------------------ 0.8/2.1 MB 296.9 kB/s eta 0:00:05\n",
      "   --------------- ------------------------ 0.8/2.1 MB 296.9 kB/s eta 0:00:05\n",
      "   --------------- ------------------------ 0.8/2.1 MB 296.9 kB/s eta 0:00:05\n",
      "   --------------- ------------------------ 0.8/2.1 MB 296.9 kB/s eta 0:00:05\n",
      "   -------------------- ------------------- 1.0/2.1 MB 249.2 kB/s eta 0:00:05\n",
      "   -------------------- ------------------- 1.0/2.1 MB 249.2 kB/s eta 0:00:05\n",
      "   -------------------- ------------------- 1.0/2.1 MB 249.2 kB/s eta 0:00:05\n",
      "   ------------------------- -------------- 1.3/2.1 MB 277.3 kB/s eta 0:00:03\n",
      "   ------------------------- -------------- 1.3/2.1 MB 277.3 kB/s eta 0:00:03\n",
      "   ------------------------- -------------- 1.3/2.1 MB 277.3 kB/s eta 0:00:03\n",
      "   ------------------------- -------------- 1.3/2.1 MB 277.3 kB/s eta 0:00:03\n",
      "   ------------------------------ --------- 1.6/2.1 MB 285.3 kB/s eta 0:00:02\n",
      "   ------------------------------ --------- 1.6/2.1 MB 285.3 kB/s eta 0:00:02\n",
      "   ------------------------------ --------- 1.6/2.1 MB 285.3 kB/s eta 0:00:02\n",
      "   ------------------------------ --------- 1.6/2.1 MB 285.3 kB/s eta 0:00:02\n",
      "   ----------------------------------- ---- 1.8/2.1 MB 290.1 kB/s eta 0:00:01\n",
      "   ----------------------------------- ---- 1.8/2.1 MB 290.1 kB/s eta 0:00:01\n",
      "   ----------------------------------- ---- 1.8/2.1 MB 290.1 kB/s eta 0:00:01\n",
      "   ----------------------------------- ---- 1.8/2.1 MB 290.1 kB/s eta 0:00:01\n",
      "   ---------------------------------------- 2.1/2.1 MB 285.8 kB/s eta 0:00:00\n",
      "Downloading colorlog-6.8.2-py3-none-any.whl (11 kB)\n",
      "Downloading PyYAML-6.0.2-cp310-cp310-win_amd64.whl (161 kB)\n",
      "Downloading greenlet-3.0.3-cp310-cp310-win_amd64.whl (292 kB)\n",
      "Downloading Mako-1.3.5-py3-none-any.whl (78 kB)\n",
      "Installing collected packages: PyYAML, Mako, greenlet, colorlog, sqlalchemy, alembic, optuna\n",
      "Successfully installed Mako-1.3.5 PyYAML-6.0.2 alembic-1.13.2 colorlog-6.8.2 greenlet-3.0.3 optuna-4.0.0 sqlalchemy-2.0.32\n",
      "Note: you may need to restart the kernel to use updated packages.\n"
     ]
    },
    {
     "name": "stderr",
     "output_type": "stream",
     "text": [
      "  WARNING: The script mako-render.exe is installed in 'c:\\Users\\User\\AppData\\Local\\Programs\\Python\\Python310\\Scripts' which is not on PATH.\n",
      "  Consider adding this directory to PATH or, if you prefer to suppress this warning, use --no-warn-script-location.\n",
      "  WARNING: The script alembic.exe is installed in 'c:\\Users\\User\\AppData\\Local\\Programs\\Python\\Python310\\Scripts' which is not on PATH.\n",
      "  Consider adding this directory to PATH or, if you prefer to suppress this warning, use --no-warn-script-location.\n",
      "  WARNING: The script optuna.exe is installed in 'c:\\Users\\User\\AppData\\Local\\Programs\\Python\\Python310\\Scripts' which is not on PATH.\n",
      "  Consider adding this directory to PATH or, if you prefer to suppress this warning, use --no-warn-script-location.\n"
     ]
    }
   ],
   "source": [
    "%pip install optuna"
   ]
  },
  {
   "cell_type": "code",
   "execution_count": 2,
   "metadata": {},
   "outputs": [
    {
     "name": "stderr",
     "output_type": "stream",
     "text": [
      "\n",
      "A module that was compiled using NumPy 1.x cannot be run in\n",
      "NumPy 2.1.0 as it may crash. To support both 1.x and 2.x\n",
      "versions of NumPy, modules must be compiled with NumPy 2.0.\n",
      "Some module may need to rebuild instead e.g. with 'pybind11>=2.12'.\n",
      "\n",
      "If you are a user of the module, the easiest solution will be to\n",
      "downgrade to 'numpy<2' or try to upgrade the affected module.\n",
      "We expect that some modules will need time to support NumPy 2.\n",
      "\n",
      "Traceback (most recent call last):  File \"c:\\Users\\User\\AppData\\Local\\Programs\\Python\\Python310\\lib\\runpy.py\", line 196, in _run_module_as_main\n",
      "    return _run_code(code, main_globals, None,\n",
      "  File \"c:\\Users\\User\\AppData\\Local\\Programs\\Python\\Python310\\lib\\runpy.py\", line 86, in _run_code\n",
      "    exec(code, run_globals)\n",
      "  File \"C:\\Users\\User\\AppData\\Roaming\\Python\\Python310\\site-packages\\ipykernel_launcher.py\", line 18, in <module>\n",
      "    app.launch_new_instance()\n",
      "  File \"C:\\Users\\User\\AppData\\Roaming\\Python\\Python310\\site-packages\\traitlets\\config\\application.py\", line 1075, in launch_instance\n",
      "    app.start()\n",
      "  File \"C:\\Users\\User\\AppData\\Roaming\\Python\\Python310\\site-packages\\ipykernel\\kernelapp.py\", line 739, in start\n",
      "    self.io_loop.start()\n",
      "  File \"C:\\Users\\User\\AppData\\Roaming\\Python\\Python310\\site-packages\\tornado\\platform\\asyncio.py\", line 205, in start\n",
      "    self.asyncio_loop.run_forever()\n",
      "  File \"c:\\Users\\User\\AppData\\Local\\Programs\\Python\\Python310\\lib\\asyncio\\base_events.py\", line 595, in run_forever\n",
      "    self._run_once()\n",
      "  File \"c:\\Users\\User\\AppData\\Local\\Programs\\Python\\Python310\\lib\\asyncio\\base_events.py\", line 1881, in _run_once\n",
      "    handle._run()\n",
      "  File \"c:\\Users\\User\\AppData\\Local\\Programs\\Python\\Python310\\lib\\asyncio\\events.py\", line 80, in _run\n",
      "    self._context.run(self._callback, *self._args)\n",
      "  File \"C:\\Users\\User\\AppData\\Roaming\\Python\\Python310\\site-packages\\ipykernel\\kernelbase.py\", line 545, in dispatch_queue\n",
      "    await self.process_one()\n",
      "  File \"C:\\Users\\User\\AppData\\Roaming\\Python\\Python310\\site-packages\\ipykernel\\kernelbase.py\", line 534, in process_one\n",
      "    await dispatch(*args)\n",
      "  File \"C:\\Users\\User\\AppData\\Roaming\\Python\\Python310\\site-packages\\ipykernel\\kernelbase.py\", line 437, in dispatch_shell\n",
      "    await result\n",
      "  File \"C:\\Users\\User\\AppData\\Roaming\\Python\\Python310\\site-packages\\ipykernel\\ipkernel.py\", line 362, in execute_request\n",
      "    await super().execute_request(stream, ident, parent)\n",
      "  File \"C:\\Users\\User\\AppData\\Roaming\\Python\\Python310\\site-packages\\ipykernel\\kernelbase.py\", line 778, in execute_request\n",
      "    reply_content = await reply_content\n",
      "  File \"C:\\Users\\User\\AppData\\Roaming\\Python\\Python310\\site-packages\\ipykernel\\ipkernel.py\", line 449, in do_execute\n",
      "    res = shell.run_cell(\n",
      "  File \"C:\\Users\\User\\AppData\\Roaming\\Python\\Python310\\site-packages\\ipykernel\\zmqshell.py\", line 549, in run_cell\n",
      "    return super().run_cell(*args, **kwargs)\n",
      "  File \"C:\\Users\\User\\AppData\\Roaming\\Python\\Python310\\site-packages\\IPython\\core\\interactiveshell.py\", line 3075, in run_cell\n",
      "    result = self._run_cell(\n",
      "  File \"C:\\Users\\User\\AppData\\Roaming\\Python\\Python310\\site-packages\\IPython\\core\\interactiveshell.py\", line 3130, in _run_cell\n",
      "    result = runner(coro)\n",
      "  File \"C:\\Users\\User\\AppData\\Roaming\\Python\\Python310\\site-packages\\IPython\\core\\async_helpers.py\", line 128, in _pseudo_sync_runner\n",
      "    coro.send(None)\n",
      "  File \"C:\\Users\\User\\AppData\\Roaming\\Python\\Python310\\site-packages\\IPython\\core\\interactiveshell.py\", line 3334, in run_cell_async\n",
      "    has_raised = await self.run_ast_nodes(code_ast.body, cell_name,\n",
      "  File \"C:\\Users\\User\\AppData\\Roaming\\Python\\Python310\\site-packages\\IPython\\core\\interactiveshell.py\", line 3517, in run_ast_nodes\n",
      "    if await self.run_code(code, result, async_=asy):\n",
      "  File \"C:\\Users\\User\\AppData\\Roaming\\Python\\Python310\\site-packages\\IPython\\core\\interactiveshell.py\", line 3577, in run_code\n",
      "    exec(code_obj, self.user_global_ns, self.user_ns)\n",
      "  File \"C:\\Users\\User\\AppData\\Local\\Temp\\ipykernel_1344\\3847652366.py\", line 4, in <module>\n",
      "    import torch\n",
      "  File \"c:\\Users\\User\\AppData\\Local\\Programs\\Python\\Python310\\lib\\site-packages\\torch\\__init__.py\", line 2120, in <module>\n",
      "    from torch._higher_order_ops import cond\n",
      "  File \"c:\\Users\\User\\AppData\\Local\\Programs\\Python\\Python310\\lib\\site-packages\\torch\\_higher_order_ops\\__init__.py\", line 1, in <module>\n",
      "    from .cond import cond\n",
      "  File \"c:\\Users\\User\\AppData\\Local\\Programs\\Python\\Python310\\lib\\site-packages\\torch\\_higher_order_ops\\cond.py\", line 5, in <module>\n",
      "    import torch._subclasses.functional_tensor\n",
      "  File \"c:\\Users\\User\\AppData\\Local\\Programs\\Python\\Python310\\lib\\site-packages\\torch\\_subclasses\\functional_tensor.py\", line 42, in <module>\n",
      "    class FunctionalTensor(torch.Tensor):\n",
      "  File \"c:\\Users\\User\\AppData\\Local\\Programs\\Python\\Python310\\lib\\site-packages\\torch\\_subclasses\\functional_tensor.py\", line 258, in FunctionalTensor\n",
      "    cpu = _conversion_method_template(device=torch.device(\"cpu\"))\n",
      "c:\\Users\\User\\AppData\\Local\\Programs\\Python\\Python310\\lib\\site-packages\\torch\\_subclasses\\functional_tensor.py:258: UserWarning: Failed to initialize NumPy: _ARRAY_API not found (Triggered internally at C:\\actions-runner\\_work\\pytorch\\pytorch\\builder\\windows\\pytorch\\torch\\csrc\\utils\\tensor_numpy.cpp:84.)\n",
      "  cpu = _conversion_method_template(device=torch.device(\"cpu\"))\n"
     ]
    }
   ],
   "source": [
    "import os\n",
    "import pandas as pd\n",
    "import numpy as np\n",
    "import torch\n",
    "import torch.nn as nn\n",
    "import torch.nn.functional as F\n",
    "import torch.optim as optim\n",
    "from torch.utils.data import DataLoader, TensorDataset\n",
    "from torchsummary import summary\n",
    "from sklearn.model_selection import train_test_split\n",
    "from sklearn.metrics import accuracy_score, precision_score, recall_score, f1_score, jaccard_score\n",
    "import matplotlib.pyplot as plt\n",
    "import gc\n",
    "from PIL import Image\n",
    "from tqdm import tqdm"
   ]
  },
  {
   "cell_type": "markdown",
   "metadata": {},
   "source": [
    "# Configurations"
   ]
  },
  {
   "cell_type": "code",
   "execution_count": 3,
   "metadata": {},
   "outputs": [],
   "source": [
    "# Setup the paths to train and test datasets\n",
    "TRAIN_DIR = './global-wheat-detection/train/'\n",
    "TEST_DIR = './global-wheat-detection/test/'\n",
    "TRAIN_CSV_PATH = './global-wheat-detection/train.csv'\n",
    "AUG_SAVE_DIR = './global-wheat-detection/augmented_images/'\n",
    "SAVE_PATH = 'models/DBN/'\n",
    "CHECKPOINT_DIR = 'models/DBN/checkpoints/'\n",
    "\n",
    "# Model configuration\n",
    "EPOCHS = 10\n",
    "IMG_SIZE = 28\n",
    "VISIBLE_UNITS = IMG_SIZE * IMG_SIZE\n",
    "HIDDEN_UNITS_1 = 256  # Number of hidden units in the first RBM\n",
    "HIDDEN_UNITS_2 = 128  # Number of hidden units in the second RBM\n",
    "N_CLASSES = 2\n",
    "BATCH_SIZE = 64  # Batch size for training\n",
    "LEARNING_RATE = 0.01  # Learning rate for both pre-training and fine-tuning\n",
    "\n",
    "# Create directories if they don't exist\n",
    "if not os.path.exists(SAVE_PATH):\n",
    "    os.makedirs(SAVE_PATH)\n",
    "if not os.path.exists(CHECKPOINT_DIR):\n",
    "    os.makedirs(CHECKPOINT_DIR)\n",
    "\n",
    "# Device configuration\n",
    "device = torch.device('cuda' if torch.cuda.is_available() else 'cpu')"
   ]
  },
  {
   "cell_type": "markdown",
   "metadata": {},
   "source": [
    "# Data Loading"
   ]
  },
  {
   "cell_type": "code",
   "execution_count": 15,
   "metadata": {},
   "outputs": [
    {
     "name": "stdout",
     "output_type": "stream",
     "text": [
      "<class 'pandas.core.frame.DataFrame'>\n",
      "RangeIndex: 242466 entries, 0 to 242465\n",
      "Data columns (total 6 columns):\n",
      " #   Column    Non-Null Count   Dtype  \n",
      "---  ------    --------------   -----  \n",
      " 0   image_id  242466 non-null  object \n",
      " 1   x         242466 non-null  float64\n",
      " 2   y         242466 non-null  float64\n",
      " 3   w         242466 non-null  float64\n",
      " 4   h         242466 non-null  float64\n",
      " 5   source    242466 non-null  object \n",
      "dtypes: float64(4), object(2)\n",
      "memory usage: 11.1+ MB\n"
     ]
    }
   ],
   "source": [
    "df = pd.read_csv('./df_augment.csv')\n",
    "# df = pd.read_csv('./df_full.csv')\n",
    "df.info()"
   ]
  },
  {
   "cell_type": "markdown",
   "metadata": {},
   "source": [
    "Preprocessing"
   ]
  },
  {
   "cell_type": "code",
   "execution_count": 16,
   "metadata": {},
   "outputs": [
    {
     "name": "stdout",
     "output_type": "stream",
     "text": [
      "                image_id                                             bboxes  \\\n",
      "0              00333207f  [[0.0, 654.0, 37.0, 111.0], [0.0, 817.0, 135.0...   \n",
      "1  00333207f_augmented_1  [[0.0, 259.0, 37.25467, 111.0], [0.0, 109.0, 1...   \n",
      "2              005b0d8bb  [[765.0, 879.0, 116.0, 79.0], [84.0, 539.0, 15...   \n",
      "3  005b0d8bb_augmented_1  [[0.0, 0.0, 24.0, 151.0], [260.0, 389.0, 138.0...   \n",
      "4              006a994f7  [[437.0, 988.0, 98.0, 36.0], [309.0, 527.0, 11...   \n",
      "\n",
      "      source  \n",
      "0  arvalis_1  \n",
      "1  arvalis_1  \n",
      "2    usask_1  \n",
      "3    usask_1  \n",
      "4    inrae_1  \n"
     ]
    },
    {
     "name": "stderr",
     "output_type": "stream",
     "text": [
      "C:\\Users\\User\\AppData\\Local\\Temp\\ipykernel_1344\\3198158563.py:6: DeprecationWarning: DataFrameGroupBy.apply operated on the grouping columns. This behavior is deprecated, and in a future version of pandas the grouping columns will be excluded from the operation. Either pass `include_groups=False` to exclude the groupings or explicitly select the grouping columns after groupby to silence this warning.\n",
      "  df_grouped = df.groupby('image_id').apply(lambda group: pd.Series({\n"
     ]
    }
   ],
   "source": [
    "def group_bounding_boxes(group):\n",
    "    bboxes = np.array(list(zip(group['x'], group['y'], group['w'], group['h'])), dtype=np.float32)\n",
    "    return bboxes\n",
    "\n",
    "# Apply the function to group bounding boxes by image_id\n",
    "df_grouped = df.groupby('image_id').apply(lambda group: pd.Series({\n",
    "    'bboxes': group_bounding_boxes(group),\n",
    "    'source': group['source'].iloc[0]  # Keep the source or other necessary columns\n",
    "})).reset_index()\n",
    "\n",
    "# Check the resulting DataFrame\n",
    "print(df_grouped.head())  # This should show 'image_id', 'bboxes', and 'source'\n",
    "\n",
    "# Split the grouped data into training, validation, and test sets\n",
    "train_df, test_df = train_test_split(df_grouped, test_size=0.4, random_state=42)\n",
    "test_df, val_df = train_test_split(test_df, test_size=0.5, random_state=42)\n",
    "\n",
    "# Extract image paths\n",
    "train_paths = [os.path.join(TRAIN_DIR, f'{image_id}.jpg') for image_id in train_df['image_id']]\n",
    "val_paths = [os.path.join(TRAIN_DIR, f'{image_id}.jpg') for image_id in val_df['image_id']]\n",
    "test_paths = [os.path.join(TRAIN_DIR, f'{image_id}.jpg') for image_id in test_df['image_id']]\n",
    "\n",
    "# Extract bounding boxes\n",
    "train_bboxes = train_df['bboxes'].tolist()\n",
    "val_bboxes = val_df['bboxes'].tolist()\n",
    "test_bboxes = test_df['bboxes'].tolist()"
   ]
  },
  {
   "cell_type": "code",
   "execution_count": 22,
   "metadata": {},
   "outputs": [
    {
     "name": "stdout",
     "output_type": "stream",
     "text": [
      "Maximum number of bounding boxes in dataset: 116\n",
      "Images batch shape: torch.Size([64, 3, 28, 28]), Labels batch shape: torch.Size([64, 2, 4]), BBoxes batch shape: torch.Size([64, 118, 4])\n",
      "torch.Size([64, 3, 28, 28]) torch.Size([64, 120, 4]) 22\n",
      "torch.Size([64, 3, 28, 28]) torch.Size([64, 120, 4]) 22\n"
     ]
    }
   ],
   "source": [
    "def load_image_and_bbox(image_id, bboxes, IMG_SIZE=IMG_SIZE):\n",
    "    # Check if the image ID is for an augmented image\n",
    "    if '_augmented_' in image_id:\n",
    "        image_path = f'./global-wheat-detection/augmented_images/{image_id}.jpg'\n",
    "    else:\n",
    "        image_path = f'./global-wheat-detection/train/{image_id}.jpg'\n",
    "\n",
    "    if not os.path.exists(image_path):\n",
    "        print(f\"Warning: File not found: {image_id}. Skipping this file.\")\n",
    "        return None, None\n",
    "\n",
    "    # Load and process the image as before\n",
    "    image = Image.open(image_path).convert('RGB')\n",
    "    original_size = image.size  # Original size (width, height)\n",
    "    image = image.resize((IMG_SIZE, IMG_SIZE))  # Resize the image to the desired size\n",
    "    image = np.array(image, dtype=np.float32) / 255.0  # Normalize the image to [0, 1] range\n",
    "\n",
    "    # Adjust bounding boxes according to the new image size\n",
    "    scale_w = IMG_SIZE / original_size[0]\n",
    "    scale_h = IMG_SIZE / original_size[1]\n",
    "    bboxes[:, [0, 2]] *= scale_w  # Scale x and w\n",
    "    bboxes[:, [1, 3]] *= scale_h  # Scale y and h\n",
    "\n",
    "    return torch.tensor(image, dtype=torch.float32).permute(2, 0, 1), torch.tensor(bboxes, dtype=torch.float32)\n",
    "\n",
    "def create_dataset(image_paths, bboxes, max_num_boxes):\n",
    "    images = []\n",
    "    targets = []\n",
    "\n",
    "    for img_path, bbox in zip(image_paths, bboxes):\n",
    "        image, bbox_tensor = load_image_and_bbox(img_path, bbox)\n",
    "\n",
    "        if image is None or bbox_tensor is None:\n",
    "            continue  # Skip if the file was not found or an error occurred\n",
    "\n",
    "        # Pad bbox_tensor to max_num_boxes\n",
    "        padded_bbox = torch.zeros((max_num_boxes, 4), dtype=torch.float32)\n",
    "        padded_bbox[:bbox_tensor.size(0), :] = bbox_tensor\n",
    "\n",
    "        images.append(image)\n",
    "        targets.append(padded_bbox)\n",
    "\n",
    "    # Ensure we have non-empty lists before stacking\n",
    "    if len(images) == 0 or len(targets) == 0:\n",
    "        raise ValueError(\"No images or targets were loaded. Check the paths and filenames.\")\n",
    "\n",
    "    images_tensor = torch.stack(images)\n",
    "    bboxes_tensor = torch.stack(targets)\n",
    "\n",
    "    return TensorDataset(images_tensor, bboxes_tensor)\n",
    "\n",
    "def parse_dataframe(df_grouped):\n",
    "    image_paths = []\n",
    "    labels = []\n",
    "    bboxes = []\n",
    "\n",
    "    for _, group in df_grouped.iterrows():\n",
    "        image_paths.append(group['image_id'])\n",
    "\n",
    "        # bbox_list is already a NumPy array, no need to parse or evaluate\n",
    "        bbox_list = group['bboxes']\n",
    "\n",
    "        # Example condition: check if any bounding box width is greater than 0\n",
    "        label = 1 if any(bbox[2] > 0 for bbox in bbox_list) else 0  # bbox[2] is the width 'w'\n",
    "        labels.append(label)\n",
    "        \n",
    "        # No need to reconstruct the array, it's already structured as expected\n",
    "        bboxes.append(bbox_list)\n",
    "    \n",
    "    return image_paths, labels, bboxes\n",
    "    \n",
    "def collate_fn(batch):\n",
    "    images, bboxes = zip(*batch)\n",
    "    \n",
    "    # Stack images into a batch tensor\n",
    "    images = torch.stack(images)\n",
    "    \n",
    "    # Find the max number of bounding boxes in the batch\n",
    "    max_num_boxes = max(bbox.shape[0] for bbox in bboxes)\n",
    "    \n",
    "    # Pad the bounding boxes to the max number of boxes\n",
    "    padded_bboxes = []\n",
    "    for bbox in bboxes:\n",
    "        padded_bbox = torch.zeros((max_num_boxes, 4), dtype=torch.float32)\n",
    "        padded_bbox[:bbox.shape[0], :] = bbox\n",
    "        padded_bboxes.append(padded_bbox)\n",
    "    \n",
    "    bboxes_tensor = torch.stack(padded_bboxes)\n",
    "    \n",
    "    return images, bboxes_tensor\n",
    "\n",
    "# Load and preprocess the data\n",
    "image_paths, labels, bboxes = parse_dataframe(df_grouped)\n",
    "\n",
    "# Split the dataset\n",
    "train_paths, test_paths, train_labels, test_labels = train_test_split(image_paths, labels, test_size=0.4, random_state=42)\n",
    "test_paths, val_paths, test_labels, val_labels = train_test_split(test_paths, test_labels, test_size=0.5, random_state=42)\n",
    "\n",
    "# Determine the maximum number of bounding boxes\n",
    "max_num_boxes_in_dataset = max(len(bbox) for bbox in train_bboxes + val_bboxes + test_bboxes)\n",
    "print(f\"Maximum number of bounding boxes in dataset: {max_num_boxes_in_dataset}\")\n",
    "\n",
    "# Create PyTorch Datasets\n",
    "# Now perform train-test split and create datasets\n",
    "train_dataset = create_dataset(train_paths, train_bboxes, max_num_boxes=120)\n",
    "val_dataset = create_dataset(val_paths, val_bboxes, max_num_boxes=120)\n",
    "test_dataset = create_dataset(test_paths, test_bboxes, max_num_boxes=120)\n",
    "\n",
    "# Create DataLoaders\n",
    "train_loader = DataLoader(train_dataset, batch_size=BATCH_SIZE, shuffle=True, collate_fn=collate_fn)\n",
    "val_loader = DataLoader(val_dataset, batch_size=BATCH_SIZE, shuffle=False, collate_fn=collate_fn)\n",
    "test_loader = DataLoader(test_dataset, batch_size=BATCH_SIZE, shuffle=False, collate_fn=collate_fn)\n",
    "\n",
    "# Inspect the DataLoader\n",
    "for images, targets in train_loader:\n",
    "    labels = targets[:, :N_CLASSES]  # Replace N_CLASSES with the actual number of classes\n",
    "    bboxes = targets[:, N_CLASSES:]  # The rest are bounding boxes\n",
    "\n",
    "    print(f\"Images batch shape: {images.shape}, Labels batch shape: {labels.shape}, BBoxes batch shape: {bboxes.shape}\")\n",
    "    break\n",
    "\n",
    "for images, labels in val_loader:\n",
    "    print(images.shape, labels.shape, len(val_loader))\n",
    "    break\n",
    "\n",
    "for images, labels in test_loader:\n",
    "    print(images.shape, labels.shape, len(test_loader))\n",
    "    break"
   ]
  },
  {
   "cell_type": "markdown",
   "metadata": {},
   "source": [
    "# Model Building"
   ]
  },
  {
   "cell_type": "code",
   "execution_count": 23,
   "metadata": {},
   "outputs": [],
   "source": [
    "def plot_metrics(history):\n",
    "    epochs = range(1, len(history['loss']) + 1)\n",
    "\n",
    "    # Plot loss\n",
    "    plt.figure(figsize=(12, 6))\n",
    "    plt.subplot(1, 2, 1)\n",
    "    plt.plot(epochs, history['loss'], 'r-', label='Training Loss')\n",
    "    plt.title('Model Loss')\n",
    "    plt.xlabel('Epoch')\n",
    "    plt.ylabel('Loss')\n",
    "    plt.legend()\n",
    "\n",
    "    # Plot accuracy\n",
    "    plt.subplot(1, 2, 2)\n",
    "    plt.plot(epochs, history['accuracy'], 'b-', label='Training Accuracy')\n",
    "    plt.title('Model Accuracy')\n",
    "    plt.xlabel('Epoch')\n",
    "    plt.ylabel('Accuracy')\n",
    "    plt.legend()\n",
    "\n",
    "    plt.tight_layout()\n",
    "    plt.show()"
   ]
  },
  {
   "cell_type": "code",
   "execution_count": 24,
   "metadata": {},
   "outputs": [],
   "source": [
    "# Precision Metric\n",
    "def precision_metric(y_true, y_pred):\n",
    "    return precision_score(y_true, y_pred, average='weighted')\n",
    "\n",
    "# Recall Metric\n",
    "def recall_metric(y_true, y_pred):\n",
    "    return recall_score(y_true, y_pred, average='weighted')\n",
    "\n",
    "# F1 Score Metric\n",
    "def f1_metric(y_true, y_pred):\n",
    "    return f1_score(y_true, y_pred, average='weighted')\n",
    "\n",
    "# Intersection over Union (IoU) Metric\n",
    "def iou_metric(y_true, y_pred):\n",
    "    return jaccard_score(y_true, y_pred, average='weighted')"
   ]
  },
  {
   "cell_type": "code",
   "execution_count": 61,
   "metadata": {},
   "outputs": [],
   "source": [
    "class RBM(nn.Module):\n",
    "    def __init__(self, visible_units, hidden_units, k=1):\n",
    "        super(RBM, self).__init__()\n",
    "        self.visible_units = visible_units  # This should match the input size (e.g., 2352 for 28x28x3 images)\n",
    "        self.hidden_units = hidden_units  # Number of hidden units (e.g., 256)\n",
    "        self.k = k  # Number of Gibbs sampling steps\n",
    "\n",
    "        # Initialize weights and biases with correct dimensions\n",
    "        self.W = nn.Parameter(torch.randn(hidden_units, visible_units) * 0.01)\n",
    "        self.h_bias = nn.Parameter(torch.zeros(hidden_units))  # Hidden bias\n",
    "        self.v_bias = nn.Parameter(torch.zeros(visible_units))  # Visible bias\n",
    "\n",
    "    def sample_h(self, v):\n",
    "        # Compute probability of hidden unit given visible units\n",
    "        h_prob = torch.sigmoid(F.linear(v, self.W, self.h_bias))\n",
    "        return h_prob, torch.bernoulli(h_prob)\n",
    "\n",
    "    def sample_v(self, h):\n",
    "        # Compute probability of visible unit given hidden units\n",
    "        v_prob = torch.sigmoid(F.linear(h, self.W.t(), self.v_bias))\n",
    "        return v_prob, torch.bernoulli(v_prob)\n",
    "\n",
    "    def forward(self, v):\n",
    "        # Perform k steps of Gibbs sampling\n",
    "        h_prob, h_sample = self.sample_h(v)\n",
    "        for _ in range(self.k):\n",
    "            v_prob, v_sample = self.sample_v(h_sample)\n",
    "            h_prob, h_sample = self.sample_h(v_sample)\n",
    "        return v_sample"
   ]
  },
  {
   "cell_type": "code",
   "execution_count": 26,
   "metadata": {},
   "outputs": [],
   "source": [
    "class DBN(nn.Module):\n",
    "    def __init__(self, rbm_layers, n_classes):\n",
    "        super(DBN, self).__init__()\n",
    "        self.rbm_layers = nn.ModuleList(rbm_layers)\n",
    "        self.n_classes = n_classes\n",
    "        self.classifier = nn.Linear(rbm_layers[-1].hidden_units, n_classes)\n",
    "    \n",
    "    def forward(self, x):\n",
    "        # Pass through each RBM layer\n",
    "        for rbm in self.rbm_layers:\n",
    "            x, _ = rbm.sample_h(x)  # Get the hidden layer output\n",
    "        # Pass through the final classifier layer\n",
    "        x = self.classifier(x)\n",
    "        return x"
   ]
  },
  {
   "cell_type": "markdown",
   "metadata": {},
   "source": [
    "# DBN_1"
   ]
  },
  {
   "cell_type": "code",
   "execution_count": 62,
   "metadata": {},
   "outputs": [
    {
     "name": "stdout",
     "output_type": "stream",
     "text": [
      "DBNModel(\n",
      "  (rbm1): RBM()\n",
      "  (rbm2): RBM()\n",
      "  (fc_class): Linear(in_features=128, out_features=2, bias=True)\n",
      "  (fc_bbox): Linear(in_features=128, out_features=40, bias=True)\n",
      "  (criterion_class): CrossEntropyLoss()\n",
      "  (criterion_bbox): SmoothL1Loss()\n",
      ")\n"
     ]
    }
   ],
   "source": [
    "class DBNModel(nn.Module):\n",
    "    def __init__(self, visible_units, hidden_units_1, hidden_units_2, n_classes, num_boxes=10):\n",
    "        super(DBNModel, self).__init__()\n",
    "        self.rbm1 = RBM(visible_units, hidden_units_1)\n",
    "        self.rbm2 = RBM(hidden_units_1, hidden_units_2)\n",
    "        \n",
    "        self.fc_class = nn.Linear(in_features=hidden_units_2, out_features=n_classes, bias=True)\n",
    "        self.fc_bbox = nn.Linear(in_features=hidden_units_2, out_features=num_boxes * 4, bias=True)\n",
    "        \n",
    "        self.criterion_class = nn.CrossEntropyLoss()\n",
    "        self.criterion_bbox = nn.SmoothL1Loss()\n",
    "\n",
    "        self.num_boxes = num_boxes  # Store the number of bounding boxes\n",
    "\n",
    "    def forward(self, x):\n",
    "        # Flatten input if it's an image\n",
    "        batch_size = x.size(0)\n",
    "        x = x.view(batch_size, -1)  # Flatten to [batch_size, visible_units]\n",
    "\n",
    "        x = self.rbm1(x)\n",
    "        x = self.rbm2(x)\n",
    "        \n",
    "        class_output = self.fc_class(x)\n",
    "        bbox_output = self.fc_bbox(x)\n",
    "        \n",
    "        bbox_output = bbox_output.view(-1, self.num_boxes, 4)\n",
    "        \n",
    "        return class_output, bbox_output\n",
    "\n",
    "    def compile_model(self, learning_rate=0.01):\n",
    "        self.optimizer = torch.optim.Adam(self.parameters(), lr=learning_rate)\n",
    "        self.criterion_class = nn.CrossEntropyLoss()  # For class labels\n",
    "        self.criterion_bbox = nn.SmoothL1Loss()  # For bounding boxes\n",
    "\n",
    "    def train_model(self, train_loader, epochs=10, checkpoint_dir=None):\n",
    "        history = {'loss': [], 'accuracy': []}\n",
    "        best_loss = float('inf')\n",
    "\n",
    "        for epoch in range(epochs):\n",
    "            self.train()\n",
    "            total_loss = 0\n",
    "            correct = 0\n",
    "            for data, target in train_loader:\n",
    "                self.optimizer.zero_grad()\n",
    "\n",
    "                # Split target into labels and bounding boxes\n",
    "                labels = target[:, 0].long()  # Ensure labels is 1D\n",
    "\n",
    "                # Forward pass through the model\n",
    "                class_output, bbox_output = self.forward(data)\n",
    "\n",
    "                # Get batch size from bbox_output\n",
    "                batch_size = bbox_output.size(0)  # Should be 64\n",
    "\n",
    "                # Calculate the actual number of bounding boxes from the model\n",
    "                num_boxes = self.num_boxes  # Use the num_boxes set in the model\n",
    "\n",
    "                # Ensure `bboxes` has the correct shape\n",
    "                bboxes = target[:, 1:].reshape(batch_size, num_boxes, 4)\n",
    "\n",
    "                # Print shapes for debugging\n",
    "                print(\"bbox_output shape:\", bbox_output.shape)\n",
    "                print(\"bboxes shape:\", bboxes.shape)\n",
    "\n",
    "                # Compute losses\n",
    "                loss_class = self.criterion_class(class_output, labels)\n",
    "                loss_bbox = self.criterion_bbox(bbox_output, bboxes)\n",
    "                total_loss = loss_class + loss_bbox\n",
    "\n",
    "                # Backward pass and optimization\n",
    "                total_loss.backward()\n",
    "                self.optimizer.step()\n",
    "\n",
    "                total_loss += total_loss.item()\n",
    "                pred = class_output.argmax(dim=1, keepdim=True)\n",
    "                correct += pred.eq(labels.view_as(pred)).sum().item()\n",
    "\n",
    "            avg_loss = total_loss / len(train_loader)\n",
    "            accuracy = correct / len(train_loader.dataset)\n",
    "            history['loss'].append(avg_loss)\n",
    "            history['accuracy'].append(accuracy)\n",
    "            print(f'Epoch {epoch + 1}/{epochs}, Loss: {avg_loss:.4f}, Accuracy: {accuracy:.4f}')\n",
    "\n",
    "            # Save checkpoint if this is the best model so far\n",
    "            if checkpoint_dir and avg_loss < best_loss:\n",
    "                best_loss = avg_loss\n",
    "                checkpoint_path = os.path.join(checkpoint_dir, f'epoch_{epoch + 1}_loss_{avg_loss:.4f}.pth')\n",
    "                torch.save(self.state_dict(), checkpoint_path)\n",
    "                print(f\"Checkpoint saved: {checkpoint_path}\")\n",
    "\n",
    "        return history\n",
    "\n",
    "    def evaluate(self, test_loader):\n",
    "        self.eval()\n",
    "        total_loss = 0\n",
    "        correct = 0\n",
    "        y_true = []\n",
    "        y_pred = []\n",
    "\n",
    "        with torch.no_grad():\n",
    "            for data, target in test_loader:\n",
    "                labels = target[:, 0].long()  # The first element is the class label\n",
    "                bboxes = target[:, 1:].view(-1, 4)  # The rest are bounding boxes\n",
    "\n",
    "                class_output, bbox_output = self.forward(data)\n",
    "                loss_class = self.criterion_class(class_output, labels)\n",
    "                loss_bbox = self.criterion_bbox(bbox_output, bboxes)\n",
    "                total_loss += (loss_class + loss_bbox).item()\n",
    "                pred = class_output.argmax(dim=1, keepdim=True)\n",
    "                correct += pred.eq(labels.view_as(pred)).sum().item()\n",
    "\n",
    "                y_true.extend(labels.cpu().numpy())\n",
    "                y_pred.extend(pred.cpu().numpy())\n",
    "\n",
    "        avg_loss = total_loss / len(test_loader)\n",
    "        accuracy = correct / len(test_loader.dataset)\n",
    "\n",
    "        print(f'Test Loss: {avg_loss:.4f}, Accuracy: {accuracy:.4f}')\n",
    "        return {\n",
    "            'loss': avg_loss,\n",
    "            'accuracy': accuracy,\n",
    "            'y_true': y_true,\n",
    "            'y_pred': y_pred,\n",
    "        }\n",
    "\n",
    "# Initialize the DBN model with the correct parameters\n",
    "visible_units = 28 * 28 * 3  # For a 28x28 image with 3 channels (RGB)\n",
    "hidden_units_1 = 256\n",
    "hidden_units_2 = 128\n",
    "\n",
    "dbn_model = DBNModel(visible_units=visible_units, hidden_units_1=hidden_units_1, hidden_units_2=hidden_units_2, n_classes=2, num_boxes=10)\n",
    "\n",
    "# Compile the model\n",
    "LEARNING_RATE = 0.01\n",
    "dbn_model.compile_model(learning_rate=LEARNING_RATE)\n",
    "\n",
    "# Print model summary (not as straightforward in PyTorch, but showing the structure)\n",
    "print(dbn_model)"
   ]
  },
  {
   "cell_type": "code",
   "execution_count": 63,
   "metadata": {},
   "outputs": [
    {
     "ename": "RuntimeError",
     "evalue": "mat1 and mat2 shapes cannot be multiplied (64x2352 and 256x128)",
     "output_type": "error",
     "traceback": [
      "\u001b[1;31m---------------------------------------------------------------------------\u001b[0m",
      "\u001b[1;31mRuntimeError\u001b[0m                              Traceback (most recent call last)",
      "Cell \u001b[1;32mIn[63], line 1\u001b[0m\n\u001b[1;32m----> 1\u001b[0m history \u001b[38;5;241m=\u001b[39m \u001b[43mdbn_model\u001b[49m\u001b[38;5;241;43m.\u001b[39;49m\u001b[43mtrain_model\u001b[49m\u001b[43m(\u001b[49m\u001b[43mtrain_loader\u001b[49m\u001b[43m,\u001b[49m\u001b[43m \u001b[49m\u001b[43mepochs\u001b[49m\u001b[38;5;241;43m=\u001b[39;49m\u001b[43mEPOCHS\u001b[49m\u001b[43m,\u001b[49m\u001b[43m \u001b[49m\u001b[43mcheckpoint_dir\u001b[49m\u001b[38;5;241;43m=\u001b[39;49m\u001b[43mCHECKPOINT_DIR\u001b[49m\u001b[43m)\u001b[49m\n\u001b[0;32m      3\u001b[0m \u001b[38;5;66;03m# Evaluate the DBN model on the test set\u001b[39;00m\n\u001b[0;32m      4\u001b[0m test_metrics \u001b[38;5;241m=\u001b[39m dbn_model\u001b[38;5;241m.\u001b[39mevaluate(test_loader)\n",
      "Cell \u001b[1;32mIn[62], line 50\u001b[0m, in \u001b[0;36mDBNModel.train_model\u001b[1;34m(self, train_loader, epochs, checkpoint_dir)\u001b[0m\n\u001b[0;32m     47\u001b[0m labels \u001b[38;5;241m=\u001b[39m target[:, \u001b[38;5;241m0\u001b[39m]\u001b[38;5;241m.\u001b[39mlong()  \u001b[38;5;66;03m# Ensure labels is 1D\u001b[39;00m\n\u001b[0;32m     49\u001b[0m \u001b[38;5;66;03m# Forward pass through the model\u001b[39;00m\n\u001b[1;32m---> 50\u001b[0m class_output, bbox_output \u001b[38;5;241m=\u001b[39m \u001b[38;5;28;43mself\u001b[39;49m\u001b[38;5;241;43m.\u001b[39;49m\u001b[43mforward\u001b[49m\u001b[43m(\u001b[49m\u001b[43mdata\u001b[49m\u001b[43m)\u001b[49m\n\u001b[0;32m     52\u001b[0m \u001b[38;5;66;03m# Get batch size from bbox_output\u001b[39;00m\n\u001b[0;32m     53\u001b[0m batch_size \u001b[38;5;241m=\u001b[39m bbox_output\u001b[38;5;241m.\u001b[39msize(\u001b[38;5;241m0\u001b[39m)  \u001b[38;5;66;03m# Should be 64\u001b[39;00m\n",
      "Cell \u001b[1;32mIn[62], line 21\u001b[0m, in \u001b[0;36mDBNModel.forward\u001b[1;34m(self, x)\u001b[0m\n\u001b[0;32m     18\u001b[0m x \u001b[38;5;241m=\u001b[39m x\u001b[38;5;241m.\u001b[39mview(batch_size, \u001b[38;5;241m-\u001b[39m\u001b[38;5;241m1\u001b[39m)  \u001b[38;5;66;03m# Flatten to [batch_size, visible_units]\u001b[39;00m\n\u001b[0;32m     20\u001b[0m x \u001b[38;5;241m=\u001b[39m \u001b[38;5;28mself\u001b[39m\u001b[38;5;241m.\u001b[39mrbm1(x)\n\u001b[1;32m---> 21\u001b[0m x \u001b[38;5;241m=\u001b[39m \u001b[38;5;28;43mself\u001b[39;49m\u001b[38;5;241;43m.\u001b[39;49m\u001b[43mrbm2\u001b[49m\u001b[43m(\u001b[49m\u001b[43mx\u001b[49m\u001b[43m)\u001b[49m\n\u001b[0;32m     23\u001b[0m class_output \u001b[38;5;241m=\u001b[39m \u001b[38;5;28mself\u001b[39m\u001b[38;5;241m.\u001b[39mfc_class(x)\n\u001b[0;32m     24\u001b[0m bbox_output \u001b[38;5;241m=\u001b[39m \u001b[38;5;28mself\u001b[39m\u001b[38;5;241m.\u001b[39mfc_bbox(x)\n",
      "File \u001b[1;32mc:\\Users\\User\\AppData\\Local\\Programs\\Python\\Python310\\lib\\site-packages\\torch\\nn\\modules\\module.py:1553\u001b[0m, in \u001b[0;36mModule._wrapped_call_impl\u001b[1;34m(self, *args, **kwargs)\u001b[0m\n\u001b[0;32m   1551\u001b[0m     \u001b[38;5;28;01mreturn\u001b[39;00m \u001b[38;5;28mself\u001b[39m\u001b[38;5;241m.\u001b[39m_compiled_call_impl(\u001b[38;5;241m*\u001b[39margs, \u001b[38;5;241m*\u001b[39m\u001b[38;5;241m*\u001b[39mkwargs)  \u001b[38;5;66;03m# type: ignore[misc]\u001b[39;00m\n\u001b[0;32m   1552\u001b[0m \u001b[38;5;28;01melse\u001b[39;00m:\n\u001b[1;32m-> 1553\u001b[0m     \u001b[38;5;28;01mreturn\u001b[39;00m \u001b[38;5;28mself\u001b[39m\u001b[38;5;241m.\u001b[39m_call_impl(\u001b[38;5;241m*\u001b[39margs, \u001b[38;5;241m*\u001b[39m\u001b[38;5;241m*\u001b[39mkwargs)\n",
      "File \u001b[1;32mc:\\Users\\User\\AppData\\Local\\Programs\\Python\\Python310\\lib\\site-packages\\torch\\nn\\modules\\module.py:1562\u001b[0m, in \u001b[0;36mModule._call_impl\u001b[1;34m(self, *args, **kwargs)\u001b[0m\n\u001b[0;32m   1557\u001b[0m \u001b[38;5;66;03m# If we don't have any hooks, we want to skip the rest of the logic in\u001b[39;00m\n\u001b[0;32m   1558\u001b[0m \u001b[38;5;66;03m# this function, and just call forward.\u001b[39;00m\n\u001b[0;32m   1559\u001b[0m \u001b[38;5;28;01mif\u001b[39;00m \u001b[38;5;129;01mnot\u001b[39;00m (\u001b[38;5;28mself\u001b[39m\u001b[38;5;241m.\u001b[39m_backward_hooks \u001b[38;5;129;01mor\u001b[39;00m \u001b[38;5;28mself\u001b[39m\u001b[38;5;241m.\u001b[39m_backward_pre_hooks \u001b[38;5;129;01mor\u001b[39;00m \u001b[38;5;28mself\u001b[39m\u001b[38;5;241m.\u001b[39m_forward_hooks \u001b[38;5;129;01mor\u001b[39;00m \u001b[38;5;28mself\u001b[39m\u001b[38;5;241m.\u001b[39m_forward_pre_hooks\n\u001b[0;32m   1560\u001b[0m         \u001b[38;5;129;01mor\u001b[39;00m _global_backward_pre_hooks \u001b[38;5;129;01mor\u001b[39;00m _global_backward_hooks\n\u001b[0;32m   1561\u001b[0m         \u001b[38;5;129;01mor\u001b[39;00m _global_forward_hooks \u001b[38;5;129;01mor\u001b[39;00m _global_forward_pre_hooks):\n\u001b[1;32m-> 1562\u001b[0m     \u001b[38;5;28;01mreturn\u001b[39;00m forward_call(\u001b[38;5;241m*\u001b[39margs, \u001b[38;5;241m*\u001b[39m\u001b[38;5;241m*\u001b[39mkwargs)\n\u001b[0;32m   1564\u001b[0m \u001b[38;5;28;01mtry\u001b[39;00m:\n\u001b[0;32m   1565\u001b[0m     result \u001b[38;5;241m=\u001b[39m \u001b[38;5;28;01mNone\u001b[39;00m\n",
      "Cell \u001b[1;32mIn[61], line 25\u001b[0m, in \u001b[0;36mRBM.forward\u001b[1;34m(self, v)\u001b[0m\n\u001b[0;32m     23\u001b[0m \u001b[38;5;28;01mdef\u001b[39;00m \u001b[38;5;21mforward\u001b[39m(\u001b[38;5;28mself\u001b[39m, v):\n\u001b[0;32m     24\u001b[0m     \u001b[38;5;66;03m# Perform k steps of Gibbs sampling\u001b[39;00m\n\u001b[1;32m---> 25\u001b[0m     h_prob, h_sample \u001b[38;5;241m=\u001b[39m \u001b[38;5;28;43mself\u001b[39;49m\u001b[38;5;241;43m.\u001b[39;49m\u001b[43msample_h\u001b[49m\u001b[43m(\u001b[49m\u001b[43mv\u001b[49m\u001b[43m)\u001b[49m\n\u001b[0;32m     26\u001b[0m     \u001b[38;5;28;01mfor\u001b[39;00m _ \u001b[38;5;129;01min\u001b[39;00m \u001b[38;5;28mrange\u001b[39m(\u001b[38;5;28mself\u001b[39m\u001b[38;5;241m.\u001b[39mk):\n\u001b[0;32m     27\u001b[0m         v_prob, v_sample \u001b[38;5;241m=\u001b[39m \u001b[38;5;28mself\u001b[39m\u001b[38;5;241m.\u001b[39msample_v(h_sample)\n",
      "Cell \u001b[1;32mIn[61], line 15\u001b[0m, in \u001b[0;36mRBM.sample_h\u001b[1;34m(self, v)\u001b[0m\n\u001b[0;32m     13\u001b[0m \u001b[38;5;28;01mdef\u001b[39;00m \u001b[38;5;21msample_h\u001b[39m(\u001b[38;5;28mself\u001b[39m, v):\n\u001b[0;32m     14\u001b[0m     \u001b[38;5;66;03m# Compute probability of hidden unit given visible units\u001b[39;00m\n\u001b[1;32m---> 15\u001b[0m     h_prob \u001b[38;5;241m=\u001b[39m torch\u001b[38;5;241m.\u001b[39msigmoid(\u001b[43mF\u001b[49m\u001b[38;5;241;43m.\u001b[39;49m\u001b[43mlinear\u001b[49m\u001b[43m(\u001b[49m\u001b[43mv\u001b[49m\u001b[43m,\u001b[49m\u001b[43m \u001b[49m\u001b[38;5;28;43mself\u001b[39;49m\u001b[38;5;241;43m.\u001b[39;49m\u001b[43mW\u001b[49m\u001b[43m,\u001b[49m\u001b[43m \u001b[49m\u001b[38;5;28;43mself\u001b[39;49m\u001b[38;5;241;43m.\u001b[39;49m\u001b[43mh_bias\u001b[49m\u001b[43m)\u001b[49m)\n\u001b[0;32m     16\u001b[0m     \u001b[38;5;28;01mreturn\u001b[39;00m h_prob, torch\u001b[38;5;241m.\u001b[39mbernoulli(h_prob)\n",
      "\u001b[1;31mRuntimeError\u001b[0m: mat1 and mat2 shapes cannot be multiplied (64x2352 and 256x128)"
     ]
    }
   ],
   "source": [
    "history = dbn_model.train_model(train_loader, epochs=EPOCHS, checkpoint_dir=CHECKPOINT_DIR)\n",
    "\n",
    "# Evaluate the DBN model on the test set\n",
    "test_metrics = dbn_model.evaluate(test_loader)"
   ]
  },
  {
   "cell_type": "code",
   "execution_count": 19,
   "metadata": {},
   "outputs": [
    {
     "data": {
      "image/png": "[encoded data removed]",
      "text/plain": [
       "<Figure size 1200x600 with 2 Axes>"
      ]
     },
     "metadata": {},
     "output_type": "display_data"
    }
   ],
   "source": [
    "# Plot the training metrics\n",
    "plot_metrics(history)"
   ]
  },
  {
   "cell_type": "code",
   "execution_count": 20,
   "metadata": {},
   "outputs": [],
   "source": [
    "# Save the entire DBN model\n",
    "dbn_model.save(SAVE_PATH + 'dbn_model.pth')"
   ]
  },
  {
   "cell_type": "code",
   "execution_count": 21,
   "metadata": {},
   "outputs": [
    {
     "data": {
      "text/plain": [
       "6755"
      ]
     },
     "execution_count": 21,
     "metadata": {},
     "output_type": "execute_result"
    }
   ],
   "source": [
    "# Load the DBN model from a file\n",
    "# dbn_model.load(SAVE_PATH + 'dbn_model.pth')\n",
    "\n",
    "# Perform garbage collection\n",
    "gc.collect()"
   ]
  },
  {
   "cell_type": "markdown",
   "metadata": {},
   "source": [
    "# DBN_2"
   ]
  },
  {
   "cell_type": "markdown",
   "metadata": {},
   "source": [
    "The hidden units in the RBM layers are increased to 512 and 256, respectively, which makes this model potentially more capable of capturing complex features but at the cost of increased computational requirements."
   ]
  },
  {
   "cell_type": "code",
   "execution_count": null,
   "metadata": {},
   "outputs": [],
   "source": [
    "# Define the DBN model with more hidden units\n",
    "dbn_model_2 = DBNModel(visible_units=VISIBLE_UNITS, \n",
    "                       hidden_units_1=512,  # Increased from 256 to 512\n",
    "                       hidden_units_2=256,  # Increased from 128 to 256\n",
    "                       n_classes=N_CLASSES)\n",
    "\n",
    "# Compile the model\n",
    "dbn_model_2.compile_model(learning_rate=LEARNING_RATE)\n",
    "\n",
    "# Print model summary\n",
    "print(dbn_model_2.model)"
   ]
  },
  {
   "cell_type": "code",
   "execution_count": null,
   "metadata": {},
   "outputs": [],
   "source": [
    "# Train the model\n",
    "history_2 = dbn_model_2.train(train_loader, epochs=EPOCHS, checkpoint_dir=CHECKPOINT_DIR)\n",
    "\n",
    "# Evaluate the model on the test set\n",
    "test_metrics_2 = dbn_model_2.evaluate(test_loader)"
   ]
  },
  {
   "cell_type": "code",
   "execution_count": null,
   "metadata": {},
   "outputs": [],
   "source": [
    "# Plot the training metrics\n",
    "plot_metrics(history_2)"
   ]
  },
  {
   "cell_type": "code",
   "execution_count": null,
   "metadata": {},
   "outputs": [],
   "source": [
    "# Save the model\n",
    "dbn_model_2.save(SAVE_PATH + 'dbn_model_2.pth')"
   ]
  },
  {
   "cell_type": "code",
   "execution_count": null,
   "metadata": {},
   "outputs": [],
   "source": [
    "# Load the model (if needed)\n",
    "# dbn_model_2.load(SAVE_PATH + 'dbn_model_2.pth')\n",
    "gc.collect()"
   ]
  },
  {
   "cell_type": "markdown",
   "metadata": {},
   "source": [
    "# DBN_3"
   ]
  },
  {
   "cell_type": "markdown",
   "metadata": {},
   "source": [
    "A third RBM layer with 64 hidden units is added, making the network deeper. This modification allows the DBN to potentially learn even more abstract features but also requires careful tuning and more data to avoid overfitting."
   ]
  },
  {
   "cell_type": "code",
   "execution_count": null,
   "metadata": {},
   "outputs": [],
   "source": [
    "# Define the DBN model with an additional RBM layer\n",
    "class DBNModelExtended(DBNModel):\n",
    "    def build_model(self):\n",
    "        # Initialize RBMs with an additional layer\n",
    "        rbm1 = RBM(visible_units=self.visible_units, hidden_units=self.hidden_units_1)\n",
    "        rbm2 = RBM(visible_units=self.hidden_units_1, hidden_units=self.hidden_units_2)\n",
    "        rbm3 = RBM(visible_units=self.hidden_units_2, hidden_units=64)  # New additional RBM layer\n",
    "        \n",
    "        # Stack RBMs to form a DBN\n",
    "        dbn = DBN(rbm_layers=[rbm1, rbm2, rbm3], n_classes=self.n_classes)\n",
    "        return dbn\n",
    "\n",
    "# Initialize the DBN model\n",
    "dbn_model_3 = DBNModelExtended(visible_units=VISIBLE_UNITS, \n",
    "                               hidden_units_1=HIDDEN_UNITS_1, \n",
    "                               hidden_units_2=HIDDEN_UNITS_2, \n",
    "                               n_classes=N_CLASSES)\n",
    "\n",
    "# Compile the model\n",
    "dbn_model_3.compile_model(learning_rate=LEARNING_RATE)\n",
    "\n",
    "# Print model summary\n",
    "print(dbn_model_3.model)"
   ]
  },
  {
   "cell_type": "code",
   "execution_count": null,
   "metadata": {},
   "outputs": [],
   "source": [
    "# Train the model\n",
    "history_3 = dbn_model_3.train(train_loader, epochs=EPOCHS, checkpoint_dir=CHECKPOINT_DIR)\n",
    "\n",
    "# Evaluate the model on the test set\n",
    "test_metrics_3 = dbn_model_3.evaluate(test_loader)"
   ]
  },
  {
   "cell_type": "code",
   "execution_count": null,
   "metadata": {},
   "outputs": [],
   "source": [
    "# Plot the training metrics\n",
    "plot_metrics(history_3)"
   ]
  },
  {
   "cell_type": "code",
   "execution_count": null,
   "metadata": {},
   "outputs": [],
   "source": [
    "# Save the model\n",
    "dbn_model_3.save(SAVE_PATH + 'dbn_model_3.pth')"
   ]
  },
  {
   "cell_type": "code",
   "execution_count": null,
   "metadata": {},
   "outputs": [],
   "source": [
    "# Load the model (if needed)\n",
    "# dbn_model_3.load(SAVE_PATH + 'dbn_model_3.pth')\n",
    "gc.collect()"
   ]
  },
  {
   "cell_type": "markdown",
   "metadata": {},
   "source": [
    "# Saving History"
   ]
  },
  {
   "cell_type": "markdown",
   "metadata": {},
   "source": [
    "[I just did for first DBN model]"
   ]
  },
  {
   "cell_type": "code",
   "execution_count": 23,
   "metadata": {},
   "outputs": [],
   "source": [
    "import pickle\n",
    "\n",
    "# Save the training history for the first DBN model\n",
    "with open('dbn_training_history_1.pkl', 'wb') as file:\n",
    "    pickle.dump(history, file)\n",
    "\n",
    "# Save the training history for the second DBN model\n",
    "#with open('dbn_training_history_2.pkl', 'wb') as file:\n",
    "#    pickle.dump(history_2, file)\n",
    "\n",
    "# Save the training history for the third DBN model\n",
    "#with open('dbn_training_history_3.pkl', 'wb') as file:\n",
    "#    pickle.dump(history_3, file)"
   ]
  },
  {
   "cell_type": "code",
   "execution_count": 24,
   "metadata": {},
   "outputs": [
    {
     "ename": "TypeError",
     "evalue": "Module.train() got an unexpected keyword argument 'epochs'",
     "output_type": "error",
     "traceback": [
      "\u001b[1;31m---------------------------------------------------------------------------\u001b[0m",
      "\u001b[1;31mTypeError\u001b[0m                                 Traceback (most recent call last)",
      "Cell \u001b[1;32mIn[24], line 15\u001b[0m\n\u001b[0;32m     12\u001b[0m dbn_model\u001b[38;5;241m.\u001b[39mcompile_model(learning_rate\u001b[38;5;241m=\u001b[39mLEARNING_RATE)\n\u001b[0;32m     14\u001b[0m \u001b[38;5;66;03m# Train the model for zero epochs to create an empty history object\u001b[39;00m\n\u001b[1;32m---> 15\u001b[0m empty_history_1 \u001b[38;5;241m=\u001b[39m \u001b[43mdbn_model\u001b[49m\u001b[38;5;241;43m.\u001b[39;49m\u001b[43mtrain\u001b[49m\u001b[43m(\u001b[49m\u001b[43mtrain_loader\u001b[49m\u001b[43m,\u001b[49m\u001b[43m \u001b[49m\u001b[43mepochs\u001b[49m\u001b[38;5;241;43m=\u001b[39;49m\u001b[38;5;241;43m0\u001b[39;49m\u001b[43m,\u001b[49m\u001b[43m \u001b[49m\u001b[43mcheckpoint_dir\u001b[49m\u001b[38;5;241;43m=\u001b[39;49m\u001b[38;5;28;43;01mNone\u001b[39;49;00m\u001b[43m)\u001b[49m\n\u001b[0;32m     17\u001b[0m \u001b[38;5;66;03m# Set the loaded history to the empty history object\u001b[39;00m\n\u001b[0;32m     18\u001b[0m empty_history_1 \u001b[38;5;241m=\u001b[39m loaded_history_1\n",
      "\u001b[1;31mTypeError\u001b[0m: Module.train() got an unexpected keyword argument 'epochs'"
     ]
    }
   ],
   "source": [
    "# Load the training history for the first DBN model\n",
    "with open('dbn_training_history_1.pkl', 'rb') as file:\n",
    "    loaded_history_1 = pickle.load(file)\n",
    "\n",
    "# Initialize the model again if needed\n",
    "dbn_model = DBNModel(visible_units=VISIBLE_UNITS, \n",
    "                     hidden_units_1=HIDDEN_UNITS_1, \n",
    "                     hidden_units_2=HIDDEN_UNITS_2, \n",
    "                     n_classes=N_CLASSES)\n",
    "\n",
    "# Compile the model\n",
    "dbn_model.compile_model(learning_rate=LEARNING_RATE)\n",
    "\n",
    "# Train the model for zero epochs to create an empty history object\n",
    "empty_history_1 = dbn_model.train(train_loader, epochs=0, checkpoint_dir=None)\n",
    "\n",
    "# Set the loaded history to the empty history object\n",
    "empty_history_1 = loaded_history_1\n",
    "\n",
    "# Now empty_history_1 contains the loaded history\n",
    "plot_metrics(empty_history_1)"
   ]
  },
  {
   "cell_type": "markdown",
   "metadata": {},
   "source": [
    "# Hyperparameter Tuning (For DBN_1)"
   ]
  },
  {
   "cell_type": "code",
   "execution_count": 36,
   "metadata": {},
   "outputs": [
    {
     "name": "stderr",
     "output_type": "stream",
     "text": [
      "[I 2024-09-03 09:39:20,229] A new study created in memory with name: no-name-9ea89b7b-d5af-43d5-bef8-a6e727dba4b8\n"
     ]
    }
   ],
   "source": [
    "import optuna\n",
    "import torch\n",
    "import torch.nn as nn\n",
    "import torch.optim as optim\n",
    "from optuna import Trial\n",
    "\n",
    "class DBNHyperModel:\n",
    "    def __init__(self, visible_units, n_classes):\n",
    "        self.visible_units = visible_units\n",
    "        self.n_classes = n_classes\n",
    "\n",
    "    def build(self, trial: Trial):\n",
    "        # Sample hyperparameters\n",
    "        hidden_units_1 = trial.suggest_int('hidden_units_1', 128, 512, step=64)\n",
    "        hidden_units_2 = trial.suggest_int('hidden_units_2', 64, 256, step=64)\n",
    "        learning_rate = trial.suggest_loguniform('learning_rate', 1e-4, 1e-2)\n",
    "\n",
    "        # Build the DBN\n",
    "        rbm1 = RBM(visible_units=self.visible_units, hidden_units=hidden_units_1)\n",
    "        rbm2 = RBM(visible_units=hidden_units_1, hidden_units=hidden_units_2)\n",
    "\n",
    "        dbn = DBN(rbm_layers=[rbm1, rbm2], n_classes=self.n_classes)\n",
    "        optimizer = optim.Adam(dbn.parameters(), lr=learning_rate)\n",
    "        \n",
    "        return dbn, optimizer\n",
    "\n",
    "    def objective(self, trial: Trial):\n",
    "        # Build the model\n",
    "        model, optimizer = self.build(trial)\n",
    "        criterion = nn.CrossEntropyLoss()\n",
    "\n",
    "        # Train the model\n",
    "        model.train()\n",
    "        for epoch in range(EPOCHS):\n",
    "            total_loss = 0\n",
    "            for data, target in train_loader:\n",
    "                optimizer.zero_grad()\n",
    "                output = model(data)\n",
    "                loss = criterion(output, target)\n",
    "                loss.backward()\n",
    "                optimizer.step()\n",
    "                total_loss += loss.item()\n",
    "\n",
    "            avg_loss = total_loss / len(train_loader)\n",
    "\n",
    "            # Validation\n",
    "            model.eval()\n",
    "            val_loss = 0\n",
    "            with torch.no_grad():\n",
    "                for data, target in val_loader:\n",
    "                    output = model(data)\n",
    "                    loss = criterion(output, target)\n",
    "                    val_loss += loss.item()\n",
    "            val_loss /= len(val_loader)\n",
    "\n",
    "            # Report intermediate objective value\n",
    "            trial.report(val_loss, epoch)\n",
    "\n",
    "            # Handle pruning (optional)\n",
    "            if trial.should_prune():\n",
    "                raise optuna.exceptions.TrialPruned()\n",
    "\n",
    "        return val_loss\n",
    "\n",
    "# Initialize the hypermodel\n",
    "hypermodel = DBNHyperModel(visible_units=VISIBLE_UNITS, n_classes=N_CLASSES)\n",
    "\n",
    "# Create an Optuna study\n",
    "study = optuna.create_study(direction='minimize')"
   ]
  },
  {
   "cell_type": "code",
   "execution_count": 42,
   "metadata": {},
   "outputs": [
    {
     "name": "stderr",
     "output_type": "stream",
     "text": [
      "[I 2024-09-03 09:50:05,013] A new study created in memory with name: no-name-723a551e-3a67-4a60-8ea9-aaa868aca995\n"
     ]
    },
    {
     "name": "stdout",
     "output_type": "stream",
     "text": [
      "Epoch 1/10, Loss: 0.0689, Accuracy: 0.9876\n",
      "Epoch 2/10, Loss: 0.0065, Accuracy: 0.9996\n",
      "Epoch 3/10, Loss: 0.0039, Accuracy: 0.9996\n",
      "Epoch 4/10, Loss: 0.0035, Accuracy: 0.9996\n",
      "Epoch 5/10, Loss: 0.0035, Accuracy: 0.9996\n",
      "Epoch 6/10, Loss: 0.0035, Accuracy: 0.9996\n",
      "Epoch 7/10, Loss: 0.0035, Accuracy: 0.9996\n",
      "Epoch 8/10, Loss: 0.0035, Accuracy: 0.9996\n",
      "Epoch 9/10, Loss: 0.0035, Accuracy: 0.9996\n",
      "Epoch 10/10, Loss: 0.0035, Accuracy: 0.9996\n"
     ]
    },
    {
     "name": "stderr",
     "output_type": "stream",
     "text": [
      "c:\\Users\\User\\AppData\\Local\\Programs\\Python\\Python310\\lib\\site-packages\\sklearn\\metrics\\_classification.py:1531: UndefinedMetricWarning: Precision is ill-defined and being set to 0.0 in labels with no predicted samples. Use `zero_division` parameter to control this behavior.\n",
      "  _warn_prf(average, modifier, f\"{metric.capitalize()} is\", len(result))\n",
      "[I 2024-09-03 09:51:31,064] Trial 0 finished with value: 0.9996700622757455 and parameters: {'learning_rate': 9.878972647192918e-05, 'hidden_units_1': 253, 'hidden_units_2': 42}. Best is trial 0 with value: 0.9996700622757455.\n"
     ]
    },
    {
     "name": "stdout",
     "output_type": "stream",
     "text": [
      "Test Loss: 0.0029, Accuracy: 0.9997, Precision: 0.9993, Recall: 0.9997, F1-Score: 0.9995, IoU: 0.9993\n",
      "Epoch 1/10, Loss: 0.0041, Accuracy: 0.9996\n",
      "Epoch 2/10, Loss: 0.0037, Accuracy: 0.9996\n",
      "Epoch 3/10, Loss: 0.0037, Accuracy: 0.9996\n",
      "Epoch 4/10, Loss: 0.0037, Accuracy: 0.9996\n",
      "Epoch 5/10, Loss: 0.0038, Accuracy: 0.9996\n",
      "Epoch 6/10, Loss: 0.0038, Accuracy: 0.9996\n",
      "Epoch 7/10, Loss: 0.0040, Accuracy: 0.9996\n",
      "Epoch 8/10, Loss: 0.0037, Accuracy: 0.9996\n",
      "Epoch 9/10, Loss: 0.0037, Accuracy: 0.9996\n",
      "Epoch 10/10, Loss: 0.0036, Accuracy: 0.9996\n"
     ]
    },
    {
     "name": "stderr",
     "output_type": "stream",
     "text": [
      "c:\\Users\\User\\AppData\\Local\\Programs\\Python\\Python310\\lib\\site-packages\\sklearn\\metrics\\_classification.py:1531: UndefinedMetricWarning: Precision is ill-defined and being set to 0.0 in labels with no predicted samples. Use `zero_division` parameter to control this behavior.\n",
      "  _warn_prf(average, modifier, f\"{metric.capitalize()} is\", len(result))\n",
      "[I 2024-09-03 09:53:20,823] Trial 1 finished with value: 0.9996700622757455 and parameters: {'learning_rate': 0.003917501016697021, 'hidden_units_1': 253, 'hidden_units_2': 112}. Best is trial 0 with value: 0.9996700622757455.\n"
     ]
    },
    {
     "name": "stdout",
     "output_type": "stream",
     "text": [
      "Test Loss: 0.0030, Accuracy: 0.9997, Precision: 0.9993, Recall: 0.9997, F1-Score: 0.9995, IoU: 0.9993\n",
      "Epoch 1/10, Loss: 0.0045, Accuracy: 0.9996\n",
      "Epoch 2/10, Loss: 0.0035, Accuracy: 0.9996\n",
      "Epoch 3/10, Loss: 0.0035, Accuracy: 0.9996\n",
      "Epoch 4/10, Loss: 0.0034, Accuracy: 0.9996\n",
      "Epoch 5/10, Loss: 0.0032, Accuracy: 0.9996\n",
      "Epoch 6/10, Loss: 0.0032, Accuracy: 0.9996\n",
      "Epoch 7/10, Loss: 0.0031, Accuracy: 0.9996\n",
      "Epoch 8/10, Loss: 0.0032, Accuracy: 0.9996\n",
      "Epoch 9/10, Loss: 0.0031, Accuracy: 0.9996\n",
      "Epoch 10/10, Loss: 0.0031, Accuracy: 0.9996\n"
     ]
    },
    {
     "name": "stderr",
     "output_type": "stream",
     "text": [
      "c:\\Users\\User\\AppData\\Local\\Programs\\Python\\Python310\\lib\\site-packages\\sklearn\\metrics\\_classification.py:1531: UndefinedMetricWarning: Precision is ill-defined and being set to 0.0 in labels with no predicted samples. Use `zero_division` parameter to control this behavior.\n",
      "  _warn_prf(average, modifier, f\"{metric.capitalize()} is\", len(result))\n",
      "[I 2024-09-03 09:54:56,543] Trial 2 finished with value: 0.9996700622757455 and parameters: {'learning_rate': 0.0006517151787620411, 'hidden_units_1': 180, 'hidden_units_2': 122}. Best is trial 0 with value: 0.9996700622757455.\n"
     ]
    },
    {
     "name": "stdout",
     "output_type": "stream",
     "text": [
      "Test Loss: 0.0026, Accuracy: 0.9997, Precision: 0.9993, Recall: 0.9997, F1-Score: 0.9995, IoU: 0.9993\n",
      "Epoch 1/10, Loss: 0.0116, Accuracy: 0.9974\n",
      "Epoch 2/10, Loss: 0.0035, Accuracy: 0.9996\n",
      "Epoch 3/10, Loss: 0.0035, Accuracy: 0.9996\n",
      "Epoch 4/10, Loss: 0.0035, Accuracy: 0.9996\n",
      "Epoch 5/10, Loss: 0.0035, Accuracy: 0.9996\n",
      "Epoch 6/10, Loss: 0.0034, Accuracy: 0.9996\n",
      "Epoch 7/10, Loss: 0.0033, Accuracy: 0.9996\n",
      "Epoch 8/10, Loss: 0.0032, Accuracy: 0.9996\n",
      "Epoch 9/10, Loss: 0.0031, Accuracy: 0.9996\n",
      "Epoch 10/10, Loss: 0.0031, Accuracy: 0.9996\n"
     ]
    },
    {
     "name": "stderr",
     "output_type": "stream",
     "text": [
      "c:\\Users\\User\\AppData\\Local\\Programs\\Python\\Python310\\lib\\site-packages\\sklearn\\metrics\\_classification.py:1531: UndefinedMetricWarning: Precision is ill-defined and being set to 0.0 in labels with no predicted samples. Use `zero_division` parameter to control this behavior.\n",
      "  _warn_prf(average, modifier, f\"{metric.capitalize()} is\", len(result))\n",
      "[I 2024-09-03 09:56:25,054] Trial 3 finished with value: 0.9996700622757455 and parameters: {'learning_rate': 0.00021508185937587108, 'hidden_units_1': 212, 'hidden_units_2': 127}. Best is trial 0 with value: 0.9996700622757455.\n"
     ]
    },
    {
     "name": "stdout",
     "output_type": "stream",
     "text": [
      "Test Loss: 0.0026, Accuracy: 0.9997, Precision: 0.9993, Recall: 0.9997, F1-Score: 0.9995, IoU: 0.9993\n",
      "Epoch 1/10, Loss: 0.0047, Accuracy: 0.9996\n",
      "Epoch 2/10, Loss: 0.0035, Accuracy: 0.9996\n",
      "Epoch 3/10, Loss: 0.0035, Accuracy: 0.9996\n",
      "Epoch 4/10, Loss: 0.0035, Accuracy: 0.9996\n",
      "Epoch 5/10, Loss: 0.0033, Accuracy: 0.9996\n",
      "Epoch 6/10, Loss: 0.0033, Accuracy: 0.9996\n",
      "Epoch 7/10, Loss: 0.0032, Accuracy: 0.9996\n",
      "Epoch 8/10, Loss: 0.0032, Accuracy: 0.9996\n",
      "Epoch 9/10, Loss: 0.0031, Accuracy: 0.9996\n",
      "Epoch 10/10, Loss: 0.0030, Accuracy: 0.9996\n"
     ]
    },
    {
     "name": "stderr",
     "output_type": "stream",
     "text": [
      "c:\\Users\\User\\AppData\\Local\\Programs\\Python\\Python310\\lib\\site-packages\\sklearn\\metrics\\_classification.py:1531: UndefinedMetricWarning: Precision is ill-defined and being set to 0.0 in labels with no predicted samples. Use `zero_division` parameter to control this behavior.\n",
      "  _warn_prf(average, modifier, f\"{metric.capitalize()} is\", len(result))\n",
      "[I 2024-09-03 09:57:35,934] Trial 4 finished with value: 0.9996700622757455 and parameters: {'learning_rate': 0.0008040224411322317, 'hidden_units_1': 193, 'hidden_units_2': 110}. Best is trial 0 with value: 0.9996700622757455.\n"
     ]
    },
    {
     "name": "stdout",
     "output_type": "stream",
     "text": [
      "Test Loss: 0.0025, Accuracy: 0.9997, Precision: 0.9993, Recall: 0.9997, F1-Score: 0.9995, IoU: 0.9993\n",
      "Epoch 1/10, Loss: 0.0054, Accuracy: 0.9992\n",
      "Epoch 2/10, Loss: 0.0061, Accuracy: 0.9996\n",
      "Epoch 3/10, Loss: 0.0072, Accuracy: 0.9996\n",
      "Epoch 4/10, Loss: 0.0066, Accuracy: 0.9996\n",
      "Epoch 5/10, Loss: 0.0064, Accuracy: 0.9996\n",
      "Epoch 6/10, Loss: 0.0068, Accuracy: 0.9996\n",
      "Epoch 7/10, Loss: 0.0075, Accuracy: 0.9996\n",
      "Epoch 8/10, Loss: 0.0069, Accuracy: 0.9996\n",
      "Epoch 9/10, Loss: 0.0066, Accuracy: 0.9996\n",
      "Epoch 10/10, Loss: 0.0068, Accuracy: 0.9996\n"
     ]
    },
    {
     "name": "stderr",
     "output_type": "stream",
     "text": [
      "c:\\Users\\User\\AppData\\Local\\Programs\\Python\\Python310\\lib\\site-packages\\sklearn\\metrics\\_classification.py:1531: UndefinedMetricWarning: Precision is ill-defined and being set to 0.0 in labels with no predicted samples. Use `zero_division` parameter to control this behavior.\n",
      "  _warn_prf(average, modifier, f\"{metric.capitalize()} is\", len(result))\n",
      "[I 2024-09-03 09:59:11,375] Trial 5 finished with value: 0.9996700622757455 and parameters: {'learning_rate': 0.06174435285619339, 'hidden_units_1': 161, 'hidden_units_2': 67}. Best is trial 0 with value: 0.9996700622757455.\n"
     ]
    },
    {
     "name": "stdout",
     "output_type": "stream",
     "text": [
      "Test Loss: 0.0046, Accuracy: 0.9997, Precision: 0.9993, Recall: 0.9997, F1-Score: 0.9995, IoU: 0.9993\n",
      "Epoch 1/10, Loss: 0.0041, Accuracy: 0.9996\n",
      "Epoch 2/10, Loss: 0.0039, Accuracy: 0.9996\n",
      "Epoch 3/10, Loss: 0.0039, Accuracy: 0.9996\n",
      "Epoch 4/10, Loss: 0.0039, Accuracy: 0.9996\n",
      "Epoch 5/10, Loss: 0.0039, Accuracy: 0.9996\n",
      "Epoch 6/10, Loss: 0.0039, Accuracy: 0.9996\n",
      "Epoch 7/10, Loss: 0.0038, Accuracy: 0.9996\n",
      "Epoch 8/10, Loss: 0.0040, Accuracy: 0.9996\n",
      "Epoch 9/10, Loss: 0.0038, Accuracy: 0.9996\n",
      "Epoch 10/10, Loss: 0.0036, Accuracy: 0.9996\n"
     ]
    },
    {
     "name": "stderr",
     "output_type": "stream",
     "text": [
      "c:\\Users\\User\\AppData\\Local\\Programs\\Python\\Python310\\lib\\site-packages\\sklearn\\metrics\\_classification.py:1531: UndefinedMetricWarning: Precision is ill-defined and being set to 0.0 in labels with no predicted samples. Use `zero_division` parameter to control this behavior.\n",
      "  _warn_prf(average, modifier, f\"{metric.capitalize()} is\", len(result))\n",
      "[I 2024-09-03 09:59:53,601] Trial 6 finished with value: 0.9996700622757455 and parameters: {'learning_rate': 0.007210993240990051, 'hidden_units_1': 64, 'hidden_units_2': 113}. Best is trial 0 with value: 0.9996700622757455.\n"
     ]
    },
    {
     "name": "stdout",
     "output_type": "stream",
     "text": [
      "Test Loss: 0.0031, Accuracy: 0.9997, Precision: 0.9993, Recall: 0.9997, F1-Score: 0.9995, IoU: 0.9993\n",
      "Epoch 1/10, Loss: 0.0123, Accuracy: 0.9996\n",
      "Epoch 2/10, Loss: 0.0252, Accuracy: 0.9996\n",
      "Epoch 3/10, Loss: 0.0254, Accuracy: 0.9996\n",
      "Epoch 4/10, Loss: 0.0196, Accuracy: 0.9996\n",
      "Epoch 5/10, Loss: 0.0310, Accuracy: 0.9996\n",
      "Epoch 6/10, Loss: 0.0171, Accuracy: 0.9996\n",
      "Epoch 7/10, Loss: 0.0204, Accuracy: 0.9996\n",
      "Epoch 8/10, Loss: 0.0224, Accuracy: 0.9996\n",
      "Epoch 9/10, Loss: 0.0225, Accuracy: 0.9996\n",
      "Epoch 10/10, Loss: 0.0390, Accuracy: 0.9992\n"
     ]
    },
    {
     "name": "stderr",
     "output_type": "stream",
     "text": [
      "c:\\Users\\User\\AppData\\Local\\Programs\\Python\\Python310\\lib\\site-packages\\sklearn\\metrics\\_classification.py:1531: UndefinedMetricWarning: Precision is ill-defined and being set to 0.0 in labels with no predicted samples. Use `zero_division` parameter to control this behavior.\n",
      "  _warn_prf(average, modifier, f\"{metric.capitalize()} is\", len(result))\n",
      "[I 2024-09-03 10:00:58,628] Trial 7 finished with value: 0.9996700622757455 and parameters: {'learning_rate': 0.0805728504542829, 'hidden_units_1': 79, 'hidden_units_2': 118}. Best is trial 0 with value: 0.9996700622757455.\n"
     ]
    },
    {
     "name": "stdout",
     "output_type": "stream",
     "text": [
      "Test Loss: 0.0030, Accuracy: 0.9997, Precision: 0.9993, Recall: 0.9997, F1-Score: 0.9995, IoU: 0.9993\n",
      "Epoch 1/10, Loss: 0.0043, Accuracy: 0.9996\n",
      "Epoch 2/10, Loss: 0.0036, Accuracy: 0.9996\n",
      "Epoch 3/10, Loss: 0.0036, Accuracy: 0.9996\n",
      "Epoch 4/10, Loss: 0.0036, Accuracy: 0.9996\n",
      "Epoch 5/10, Loss: 0.0036, Accuracy: 0.9996\n",
      "Epoch 6/10, Loss: 0.0035, Accuracy: 0.9996\n",
      "Epoch 7/10, Loss: 0.0035, Accuracy: 0.9996\n",
      "Epoch 8/10, Loss: 0.0034, Accuracy: 0.9996\n",
      "Epoch 9/10, Loss: 0.0034, Accuracy: 0.9996\n",
      "Epoch 10/10, Loss: 0.0035, Accuracy: 0.9996\n"
     ]
    },
    {
     "name": "stderr",
     "output_type": "stream",
     "text": [
      "c:\\Users\\User\\AppData\\Local\\Programs\\Python\\Python310\\lib\\site-packages\\sklearn\\metrics\\_classification.py:1531: UndefinedMetricWarning: Precision is ill-defined and being set to 0.0 in labels with no predicted samples. Use `zero_division` parameter to control this behavior.\n",
      "  _warn_prf(average, modifier, f\"{metric.capitalize()} is\", len(result))\n",
      "[I 2024-09-03 10:01:54,177] Trial 8 finished with value: 0.9996700622757455 and parameters: {'learning_rate': 0.0023371786016238784, 'hidden_units_1': 71, 'hidden_units_2': 56}. Best is trial 0 with value: 0.9996700622757455.\n"
     ]
    },
    {
     "name": "stdout",
     "output_type": "stream",
     "text": [
      "Test Loss: 0.0027, Accuracy: 0.9997, Precision: 0.9993, Recall: 0.9997, F1-Score: 0.9995, IoU: 0.9993\n",
      "Epoch 1/10, Loss: 0.0040, Accuracy: 0.9996\n",
      "Epoch 2/10, Loss: 0.0038, Accuracy: 0.9996\n",
      "Epoch 3/10, Loss: 0.0037, Accuracy: 0.9996\n",
      "Epoch 4/10, Loss: 0.0039, Accuracy: 0.9996\n",
      "Epoch 5/10, Loss: 0.0038, Accuracy: 0.9996\n",
      "Epoch 6/10, Loss: 0.0039, Accuracy: 0.9996\n",
      "Epoch 7/10, Loss: 0.0038, Accuracy: 0.9996\n",
      "Epoch 8/10, Loss: 0.0039, Accuracy: 0.9996\n",
      "Epoch 9/10, Loss: 0.0039, Accuracy: 0.9996\n",
      "Epoch 10/10, Loss: 0.0036, Accuracy: 0.9996\n"
     ]
    },
    {
     "name": "stderr",
     "output_type": "stream",
     "text": [
      "c:\\Users\\User\\AppData\\Local\\Programs\\Python\\Python310\\lib\\site-packages\\sklearn\\metrics\\_classification.py:1531: UndefinedMetricWarning: Precision is ill-defined and being set to 0.0 in labels with no predicted samples. Use `zero_division` parameter to control this behavior.\n",
      "  _warn_prf(average, modifier, f\"{metric.capitalize()} is\", len(result))\n",
      "[I 2024-09-03 10:03:14,765] Trial 9 finished with value: 0.9996700622757455 and parameters: {'learning_rate': 0.005260938656803787, 'hidden_units_1': 173, 'hidden_units_2': 109}. Best is trial 0 with value: 0.9996700622757455.\n"
     ]
    },
    {
     "name": "stdout",
     "output_type": "stream",
     "text": [
      "Test Loss: 0.0031, Accuracy: 0.9997, Precision: 0.9993, Recall: 0.9997, F1-Score: 0.9995, IoU: 0.9993\n",
      "Epoch 1/10, Loss: 0.1034, Accuracy: 0.9996\n",
      "Epoch 2/10, Loss: 0.0165, Accuracy: 0.9996\n",
      "Epoch 3/10, Loss: 0.0070, Accuracy: 0.9996\n",
      "Epoch 4/10, Loss: 0.0044, Accuracy: 0.9996\n",
      "Epoch 5/10, Loss: 0.0037, Accuracy: 0.9996\n",
      "Epoch 6/10, Loss: 0.0035, Accuracy: 0.9996\n",
      "Epoch 7/10, Loss: 0.0035, Accuracy: 0.9996\n",
      "Epoch 8/10, Loss: 0.0035, Accuracy: 0.9996\n",
      "Epoch 9/10, Loss: 0.0035, Accuracy: 0.9996\n",
      "Epoch 10/10, Loss: 0.0035, Accuracy: 0.9996\n"
     ]
    },
    {
     "name": "stderr",
     "output_type": "stream",
     "text": [
      "c:\\Users\\User\\AppData\\Local\\Programs\\Python\\Python310\\lib\\site-packages\\sklearn\\metrics\\_classification.py:1531: UndefinedMetricWarning: Precision is ill-defined and being set to 0.0 in labels with no predicted samples. Use `zero_division` parameter to control this behavior.\n",
      "  _warn_prf(average, modifier, f\"{metric.capitalize()} is\", len(result))\n",
      "[I 2024-09-03 10:04:13,647] Trial 10 finished with value: 0.9996700622757455 and parameters: {'learning_rate': 2.3309743071295687e-05, 'hidden_units_1': 121, 'hidden_units_2': 34}. Best is trial 0 with value: 0.9996700622757455.\n"
     ]
    },
    {
     "name": "stdout",
     "output_type": "stream",
     "text": [
      "Test Loss: 0.0030, Accuracy: 0.9997, Precision: 0.9993, Recall: 0.9997, F1-Score: 0.9995, IoU: 0.9993\n",
      "Epoch 1/10, Loss: 0.0393, Accuracy: 0.9996\n",
      "Epoch 2/10, Loss: 0.0048, Accuracy: 0.9996\n",
      "Epoch 3/10, Loss: 0.0036, Accuracy: 0.9996\n",
      "Epoch 4/10, Loss: 0.0035, Accuracy: 0.9996\n",
      "Epoch 5/10, Loss: 0.0035, Accuracy: 0.9996\n",
      "Epoch 6/10, Loss: 0.0035, Accuracy: 0.9996\n",
      "Epoch 7/10, Loss: 0.0035, Accuracy: 0.9996\n",
      "Epoch 8/10, Loss: 0.0035, Accuracy: 0.9996\n",
      "Epoch 9/10, Loss: 0.0035, Accuracy: 0.9996\n",
      "Epoch 10/10, Loss: 0.0034, Accuracy: 0.9996\n"
     ]
    },
    {
     "name": "stderr",
     "output_type": "stream",
     "text": [
      "c:\\Users\\User\\AppData\\Local\\Programs\\Python\\Python310\\lib\\site-packages\\sklearn\\metrics\\_classification.py:1531: UndefinedMetricWarning: Precision is ill-defined and being set to 0.0 in labels with no predicted samples. Use `zero_division` parameter to control this behavior.\n",
      "  _warn_prf(average, modifier, f\"{metric.capitalize()} is\", len(result))\n",
      "[I 2024-09-03 10:05:51,695] Trial 11 finished with value: 0.9996700622757455 and parameters: {'learning_rate': 3.63166235297209e-05, 'hidden_units_1': 255, 'hidden_units_2': 89}. Best is trial 0 with value: 0.9996700622757455.\n"
     ]
    },
    {
     "name": "stdout",
     "output_type": "stream",
     "text": [
      "Test Loss: 0.0030, Accuracy: 0.9997, Precision: 0.9993, Recall: 0.9997, F1-Score: 0.9995, IoU: 0.9993\n",
      "Epoch 1/10, Loss: 0.0246, Accuracy: 0.9928\n",
      "Epoch 2/10, Loss: 0.0036, Accuracy: 0.9996\n",
      "Epoch 3/10, Loss: 0.0035, Accuracy: 0.9996\n",
      "Epoch 4/10, Loss: 0.0035, Accuracy: 0.9996\n",
      "Epoch 5/10, Loss: 0.0035, Accuracy: 0.9996\n",
      "Epoch 6/10, Loss: 0.0035, Accuracy: 0.9996\n",
      "Epoch 7/10, Loss: 0.0034, Accuracy: 0.9996\n",
      "Epoch 8/10, Loss: 0.0033, Accuracy: 0.9996\n",
      "Epoch 9/10, Loss: 0.0032, Accuracy: 0.9996\n",
      "Epoch 10/10, Loss: 0.0032, Accuracy: 0.9996\n"
     ]
    },
    {
     "name": "stderr",
     "output_type": "stream",
     "text": [
      "c:\\Users\\User\\AppData\\Local\\Programs\\Python\\Python310\\lib\\site-packages\\sklearn\\metrics\\_classification.py:1531: UndefinedMetricWarning: Precision is ill-defined and being set to 0.0 in labels with no predicted samples. Use `zero_division` parameter to control this behavior.\n",
      "  _warn_prf(average, modifier, f\"{metric.capitalize()} is\", len(result))\n",
      "[I 2024-09-03 10:07:25,498] Trial 12 finished with value: 0.9996700622757455 and parameters: {'learning_rate': 0.0001619532166098359, 'hidden_units_1': 244, 'hidden_units_2': 90}. Best is trial 0 with value: 0.9996700622757455.\n"
     ]
    },
    {
     "name": "stdout",
     "output_type": "stream",
     "text": [
      "Test Loss: 0.0027, Accuracy: 0.9997, Precision: 0.9993, Recall: 0.9997, F1-Score: 0.9995, IoU: 0.9993\n",
      "Epoch 1/10, Loss: 0.0422, Accuracy: 0.9996\n",
      "Epoch 2/10, Loss: 0.0056, Accuracy: 0.9996\n",
      "Epoch 3/10, Loss: 0.0038, Accuracy: 0.9996\n",
      "Epoch 4/10, Loss: 0.0035, Accuracy: 0.9996\n",
      "Epoch 5/10, Loss: 0.0035, Accuracy: 0.9996\n",
      "Epoch 6/10, Loss: 0.0035, Accuracy: 0.9996\n",
      "Epoch 7/10, Loss: 0.0035, Accuracy: 0.9996\n",
      "Epoch 8/10, Loss: 0.0035, Accuracy: 0.9996\n",
      "Epoch 9/10, Loss: 0.0035, Accuracy: 0.9996\n",
      "Epoch 10/10, Loss: 0.0035, Accuracy: 0.9996\n"
     ]
    },
    {
     "name": "stderr",
     "output_type": "stream",
     "text": [
      "c:\\Users\\User\\AppData\\Local\\Programs\\Python\\Python310\\lib\\site-packages\\sklearn\\metrics\\_classification.py:1531: UndefinedMetricWarning: Precision is ill-defined and being set to 0.0 in labels with no predicted samples. Use `zero_division` parameter to control this behavior.\n",
      "  _warn_prf(average, modifier, f\"{metric.capitalize()} is\", len(result))\n",
      "[I 2024-09-03 10:09:07,124] Trial 13 finished with value: 0.9996700622757455 and parameters: {'learning_rate': 9.622734519115696e-05, 'hidden_units_1': 217, 'hidden_units_2': 34}. Best is trial 0 with value: 0.9996700622757455.\n"
     ]
    },
    {
     "name": "stdout",
     "output_type": "stream",
     "text": [
      "Test Loss: 0.0029, Accuracy: 0.9997, Precision: 0.9993, Recall: 0.9997, F1-Score: 0.9995, IoU: 0.9993\n",
      "Epoch 1/10, Loss: 0.1598, Accuracy: 0.9996\n",
      "Epoch 2/10, Loss: 0.0289, Accuracy: 0.9996\n",
      "Epoch 3/10, Loss: 0.0129, Accuracy: 0.9996\n",
      "Epoch 4/10, Loss: 0.0069, Accuracy: 0.9996\n",
      "Epoch 5/10, Loss: 0.0047, Accuracy: 0.9996\n",
      "Epoch 6/10, Loss: 0.0039, Accuracy: 0.9996\n",
      "Epoch 7/10, Loss: 0.0036, Accuracy: 0.9996\n",
      "Epoch 8/10, Loss: 0.0035, Accuracy: 0.9996\n",
      "Epoch 9/10, Loss: 0.0035, Accuracy: 0.9996\n",
      "Epoch 10/10, Loss: 0.0035, Accuracy: 0.9996\n"
     ]
    },
    {
     "name": "stderr",
     "output_type": "stream",
     "text": [
      "c:\\Users\\User\\AppData\\Local\\Programs\\Python\\Python310\\lib\\site-packages\\sklearn\\metrics\\_classification.py:1531: UndefinedMetricWarning: Precision is ill-defined and being set to 0.0 in labels with no predicted samples. Use `zero_division` parameter to control this behavior.\n",
      "  _warn_prf(average, modifier, f\"{metric.capitalize()} is\", len(result))\n",
      "[I 2024-09-03 10:10:27,636] Trial 14 finished with value: 0.9996700622757455 and parameters: {'learning_rate': 1.102208317347008e-05, 'hidden_units_1': 232, 'hidden_units_2': 55}. Best is trial 0 with value: 0.9996700622757455.\n"
     ]
    },
    {
     "name": "stdout",
     "output_type": "stream",
     "text": [
      "Test Loss: 0.0030, Accuracy: 0.9997, Precision: 0.9993, Recall: 0.9997, F1-Score: 0.9995, IoU: 0.9993\n",
      "Epoch 1/10, Loss: 0.0043, Accuracy: 0.9992\n",
      "Epoch 2/10, Loss: 0.0041, Accuracy: 0.9996\n",
      "Epoch 3/10, Loss: 0.0043, Accuracy: 0.9996\n",
      "Epoch 4/10, Loss: 0.0043, Accuracy: 0.9996\n",
      "Epoch 5/10, Loss: 0.0043, Accuracy: 0.9996\n",
      "Epoch 6/10, Loss: 0.0043, Accuracy: 0.9996\n",
      "Epoch 7/10, Loss: 0.0044, Accuracy: 0.9996\n",
      "Epoch 8/10, Loss: 0.0043, Accuracy: 0.9996\n",
      "Epoch 9/10, Loss: 0.0044, Accuracy: 0.9996\n",
      "Epoch 10/10, Loss: 0.0043, Accuracy: 0.9996\n"
     ]
    },
    {
     "name": "stderr",
     "output_type": "stream",
     "text": [
      "c:\\Users\\User\\AppData\\Local\\Programs\\Python\\Python310\\lib\\site-packages\\sklearn\\metrics\\_classification.py:1531: UndefinedMetricWarning: Precision is ill-defined and being set to 0.0 in labels with no predicted samples. Use `zero_division` parameter to control this behavior.\n",
      "  _warn_prf(average, modifier, f\"{metric.capitalize()} is\", len(result))\n",
      "[I 2024-09-03 10:11:54,521] Trial 15 finished with value: 0.9996700622757455 and parameters: {'learning_rate': 0.013622459919849759, 'hidden_units_1': 138, 'hidden_units_2': 98}. Best is trial 0 with value: 0.9996700622757455.\n"
     ]
    },
    {
     "name": "stdout",
     "output_type": "stream",
     "text": [
      "Test Loss: 0.0036, Accuracy: 0.9997, Precision: 0.9993, Recall: 0.9997, F1-Score: 0.9995, IoU: 0.9993\n",
      "Epoch 1/10, Loss: 0.0083, Accuracy: 0.9996\n",
      "Epoch 2/10, Loss: 0.0035, Accuracy: 0.9996\n",
      "Epoch 3/10, Loss: 0.0035, Accuracy: 0.9996\n",
      "Epoch 4/10, Loss: 0.0035, Accuracy: 0.9996\n",
      "Epoch 5/10, Loss: 0.0035, Accuracy: 0.9996\n",
      "Epoch 6/10, Loss: 0.0033, Accuracy: 0.9996\n",
      "Epoch 7/10, Loss: 0.0032, Accuracy: 0.9996\n",
      "Epoch 8/10, Loss: 0.0032, Accuracy: 0.9996\n",
      "Epoch 9/10, Loss: 0.0031, Accuracy: 0.9996\n"
     ]
    },
    {
     "name": "stderr",
     "output_type": "stream",
     "text": [
      "[W 2024-09-03 10:13:23,049] Trial 16 failed with parameters: {'learning_rate': 0.0004452590697871375, 'hidden_units_1': 209, 'hidden_units_2': 73} because of the following error: KeyboardInterrupt().\n",
      "Traceback (most recent call last):\n",
      "  File \"c:\\Users\\User\\AppData\\Local\\Programs\\Python\\Python310\\lib\\site-packages\\optuna\\study\\_optimize.py\", line 197, in _run_trial\n",
      "    value_or_values = func(trial)\n",
      "  File \"C:\\Users\\User\\AppData\\Local\\Temp\\ipykernel_29868\\2676700373.py\", line 13, in objective\n",
      "    history_1 = model.train_model(train_loader, epochs=EPOCHS)\n",
      "  File \"C:\\Users\\User\\AppData\\Local\\Temp\\ipykernel_29868\\2904860317.py\", line 61, in train_model\n",
      "    self.optimizer.step()\n",
      "  File \"c:\\Users\\User\\AppData\\Local\\Programs\\Python\\Python310\\lib\\site-packages\\torch\\optim\\optimizer.py\", line 484, in wrapper\n",
      "    out = func(*args, **kwargs)\n",
      "  File \"c:\\Users\\User\\AppData\\Local\\Programs\\Python\\Python310\\lib\\site-packages\\torch\\optim\\optimizer.py\", line 89, in _use_grad\n",
      "    ret = func(self, *args, **kwargs)\n",
      "  File \"c:\\Users\\User\\AppData\\Local\\Programs\\Python\\Python310\\lib\\site-packages\\torch\\optim\\adam.py\", line 226, in step\n",
      "    adam(\n",
      "  File \"c:\\Users\\User\\AppData\\Local\\Programs\\Python\\Python310\\lib\\site-packages\\torch\\optim\\optimizer.py\", line 161, in maybe_fallback\n",
      "    return func(*args, **kwargs)\n",
      "  File \"c:\\Users\\User\\AppData\\Local\\Programs\\Python\\Python310\\lib\\site-packages\\torch\\optim\\adam.py\", line 766, in adam\n",
      "    func(\n",
      "  File \"c:\\Users\\User\\AppData\\Local\\Programs\\Python\\Python310\\lib\\site-packages\\torch\\optim\\adam.py\", line 431, in _single_tensor_adam\n",
      "    denom = (exp_avg_sq.sqrt() / bias_correction2_sqrt).add_(eps)\n",
      "KeyboardInterrupt\n",
      "[W 2024-09-03 10:13:23,049] Trial 16 failed with value None.\n"
     ]
    },
    {
     "ename": "KeyboardInterrupt",
     "evalue": "",
     "output_type": "error",
     "traceback": [
      "\u001b[1;31m---------------------------------------------------------------------------\u001b[0m",
      "\u001b[1;31mKeyboardInterrupt\u001b[0m                         Traceback (most recent call last)",
      "Cell \u001b[1;32mIn[42], line 25\u001b[0m\n\u001b[0;32m     22\u001b[0m study \u001b[38;5;241m=\u001b[39m optuna\u001b[38;5;241m.\u001b[39mcreate_study(direction\u001b[38;5;241m=\u001b[39m\u001b[38;5;124m'\u001b[39m\u001b[38;5;124mmaximize\u001b[39m\u001b[38;5;124m'\u001b[39m)\n\u001b[0;32m     24\u001b[0m \u001b[38;5;66;03m# Run the optimization\u001b[39;00m\n\u001b[1;32m---> 25\u001b[0m \u001b[43mstudy\u001b[49m\u001b[38;5;241;43m.\u001b[39;49m\u001b[43moptimize\u001b[49m\u001b[43m(\u001b[49m\u001b[43mobjective\u001b[49m\u001b[43m,\u001b[49m\u001b[43m \u001b[49m\u001b[43mn_trials\u001b[49m\u001b[38;5;241;43m=\u001b[39;49m\u001b[38;5;241;43m100\u001b[39;49m\u001b[43m)\u001b[49m\n\u001b[0;32m     27\u001b[0m \u001b[38;5;66;03m# Retrieve the best hyperparameters\u001b[39;00m\n\u001b[0;32m     28\u001b[0m best_hyperparameters \u001b[38;5;241m=\u001b[39m study\u001b[38;5;241m.\u001b[39mbest_trial\n",
      "File \u001b[1;32mc:\\Users\\User\\AppData\\Local\\Programs\\Python\\Python310\\lib\\site-packages\\optuna\\study\\study.py:475\u001b[0m, in \u001b[0;36mStudy.optimize\u001b[1;34m(self, func, n_trials, timeout, n_jobs, catch, callbacks, gc_after_trial, show_progress_bar)\u001b[0m\n\u001b[0;32m    373\u001b[0m \u001b[38;5;28;01mdef\u001b[39;00m \u001b[38;5;21moptimize\u001b[39m(\n\u001b[0;32m    374\u001b[0m     \u001b[38;5;28mself\u001b[39m,\n\u001b[0;32m    375\u001b[0m     func: ObjectiveFuncType,\n\u001b[1;32m   (...)\u001b[0m\n\u001b[0;32m    382\u001b[0m     show_progress_bar: \u001b[38;5;28mbool\u001b[39m \u001b[38;5;241m=\u001b[39m \u001b[38;5;28;01mFalse\u001b[39;00m,\n\u001b[0;32m    383\u001b[0m ) \u001b[38;5;241m-\u001b[39m\u001b[38;5;241m>\u001b[39m \u001b[38;5;28;01mNone\u001b[39;00m:\n\u001b[0;32m    384\u001b[0m \u001b[38;5;250m    \u001b[39m\u001b[38;5;124;03m\"\"\"Optimize an objective function.\u001b[39;00m\n\u001b[0;32m    385\u001b[0m \n\u001b[0;32m    386\u001b[0m \u001b[38;5;124;03m    Optimization is done by choosing a suitable set of hyperparameter values from a given\u001b[39;00m\n\u001b[1;32m   (...)\u001b[0m\n\u001b[0;32m    473\u001b[0m \u001b[38;5;124;03m            If nested invocation of this method occurs.\u001b[39;00m\n\u001b[0;32m    474\u001b[0m \u001b[38;5;124;03m    \"\"\"\u001b[39;00m\n\u001b[1;32m--> 475\u001b[0m     \u001b[43m_optimize\u001b[49m\u001b[43m(\u001b[49m\n\u001b[0;32m    476\u001b[0m \u001b[43m        \u001b[49m\u001b[43mstudy\u001b[49m\u001b[38;5;241;43m=\u001b[39;49m\u001b[38;5;28;43mself\u001b[39;49m\u001b[43m,\u001b[49m\n\u001b[0;32m    477\u001b[0m \u001b[43m        \u001b[49m\u001b[43mfunc\u001b[49m\u001b[38;5;241;43m=\u001b[39;49m\u001b[43mfunc\u001b[49m\u001b[43m,\u001b[49m\n\u001b[0;32m    478\u001b[0m \u001b[43m        \u001b[49m\u001b[43mn_trials\u001b[49m\u001b[38;5;241;43m=\u001b[39;49m\u001b[43mn_trials\u001b[49m\u001b[43m,\u001b[49m\n\u001b[0;32m    479\u001b[0m \u001b[43m        \u001b[49m\u001b[43mtimeout\u001b[49m\u001b[38;5;241;43m=\u001b[39;49m\u001b[43mtimeout\u001b[49m\u001b[43m,\u001b[49m\n\u001b[0;32m    480\u001b[0m \u001b[43m        \u001b[49m\u001b[43mn_jobs\u001b[49m\u001b[38;5;241;43m=\u001b[39;49m\u001b[43mn_jobs\u001b[49m\u001b[43m,\u001b[49m\n\u001b[0;32m    481\u001b[0m \u001b[43m        \u001b[49m\u001b[43mcatch\u001b[49m\u001b[38;5;241;43m=\u001b[39;49m\u001b[38;5;28;43mtuple\u001b[39;49m\u001b[43m(\u001b[49m\u001b[43mcatch\u001b[49m\u001b[43m)\u001b[49m\u001b[43m \u001b[49m\u001b[38;5;28;43;01mif\u001b[39;49;00m\u001b[43m \u001b[49m\u001b[38;5;28;43misinstance\u001b[39;49m\u001b[43m(\u001b[49m\u001b[43mcatch\u001b[49m\u001b[43m,\u001b[49m\u001b[43m \u001b[49m\u001b[43mIterable\u001b[49m\u001b[43m)\u001b[49m\u001b[43m \u001b[49m\u001b[38;5;28;43;01melse\u001b[39;49;00m\u001b[43m \u001b[49m\u001b[43m(\u001b[49m\u001b[43mcatch\u001b[49m\u001b[43m,\u001b[49m\u001b[43m)\u001b[49m\u001b[43m,\u001b[49m\n\u001b[0;32m    482\u001b[0m \u001b[43m        \u001b[49m\u001b[43mcallbacks\u001b[49m\u001b[38;5;241;43m=\u001b[39;49m\u001b[43mcallbacks\u001b[49m\u001b[43m,\u001b[49m\n\u001b[0;32m    483\u001b[0m \u001b[43m        \u001b[49m\u001b[43mgc_after_trial\u001b[49m\u001b[38;5;241;43m=\u001b[39;49m\u001b[43mgc_after_trial\u001b[49m\u001b[43m,\u001b[49m\n\u001b[0;32m    484\u001b[0m \u001b[43m        \u001b[49m\u001b[43mshow_progress_bar\u001b[49m\u001b[38;5;241;43m=\u001b[39;49m\u001b[43mshow_progress_bar\u001b[49m\u001b[43m,\u001b[49m\n\u001b[0;32m    485\u001b[0m \u001b[43m    \u001b[49m\u001b[43m)\u001b[49m\n",
      "File \u001b[1;32mc:\\Users\\User\\AppData\\Local\\Programs\\Python\\Python310\\lib\\site-packages\\optuna\\study\\_optimize.py:63\u001b[0m, in \u001b[0;36m_optimize\u001b[1;34m(study, func, n_trials, timeout, n_jobs, catch, callbacks, gc_after_trial, show_progress_bar)\u001b[0m\n\u001b[0;32m     61\u001b[0m \u001b[38;5;28;01mtry\u001b[39;00m:\n\u001b[0;32m     62\u001b[0m     \u001b[38;5;28;01mif\u001b[39;00m n_jobs \u001b[38;5;241m==\u001b[39m \u001b[38;5;241m1\u001b[39m:\n\u001b[1;32m---> 63\u001b[0m         \u001b[43m_optimize_sequential\u001b[49m\u001b[43m(\u001b[49m\n\u001b[0;32m     64\u001b[0m \u001b[43m            \u001b[49m\u001b[43mstudy\u001b[49m\u001b[43m,\u001b[49m\n\u001b[0;32m     65\u001b[0m \u001b[43m            \u001b[49m\u001b[43mfunc\u001b[49m\u001b[43m,\u001b[49m\n\u001b[0;32m     66\u001b[0m \u001b[43m            \u001b[49m\u001b[43mn_trials\u001b[49m\u001b[43m,\u001b[49m\n\u001b[0;32m     67\u001b[0m \u001b[43m            \u001b[49m\u001b[43mtimeout\u001b[49m\u001b[43m,\u001b[49m\n\u001b[0;32m     68\u001b[0m \u001b[43m            \u001b[49m\u001b[43mcatch\u001b[49m\u001b[43m,\u001b[49m\n\u001b[0;32m     69\u001b[0m \u001b[43m            \u001b[49m\u001b[43mcallbacks\u001b[49m\u001b[43m,\u001b[49m\n\u001b[0;32m     70\u001b[0m \u001b[43m            \u001b[49m\u001b[43mgc_after_trial\u001b[49m\u001b[43m,\u001b[49m\n\u001b[0;32m     71\u001b[0m \u001b[43m            \u001b[49m\u001b[43mreseed_sampler_rng\u001b[49m\u001b[38;5;241;43m=\u001b[39;49m\u001b[38;5;28;43;01mFalse\u001b[39;49;00m\u001b[43m,\u001b[49m\n\u001b[0;32m     72\u001b[0m \u001b[43m            \u001b[49m\u001b[43mtime_start\u001b[49m\u001b[38;5;241;43m=\u001b[39;49m\u001b[38;5;28;43;01mNone\u001b[39;49;00m\u001b[43m,\u001b[49m\n\u001b[0;32m     73\u001b[0m \u001b[43m            \u001b[49m\u001b[43mprogress_bar\u001b[49m\u001b[38;5;241;43m=\u001b[39;49m\u001b[43mprogress_bar\u001b[49m\u001b[43m,\u001b[49m\n\u001b[0;32m     74\u001b[0m \u001b[43m        \u001b[49m\u001b[43m)\u001b[49m\n\u001b[0;32m     75\u001b[0m     \u001b[38;5;28;01melse\u001b[39;00m:\n\u001b[0;32m     76\u001b[0m         \u001b[38;5;28;01mif\u001b[39;00m n_jobs \u001b[38;5;241m==\u001b[39m \u001b[38;5;241m-\u001b[39m\u001b[38;5;241m1\u001b[39m:\n",
      "File \u001b[1;32mc:\\Users\\User\\AppData\\Local\\Programs\\Python\\Python310\\lib\\site-packages\\optuna\\study\\_optimize.py:160\u001b[0m, in \u001b[0;36m_optimize_sequential\u001b[1;34m(study, func, n_trials, timeout, catch, callbacks, gc_after_trial, reseed_sampler_rng, time_start, progress_bar)\u001b[0m\n\u001b[0;32m    157\u001b[0m         \u001b[38;5;28;01mbreak\u001b[39;00m\n\u001b[0;32m    159\u001b[0m \u001b[38;5;28;01mtry\u001b[39;00m:\n\u001b[1;32m--> 160\u001b[0m     frozen_trial \u001b[38;5;241m=\u001b[39m \u001b[43m_run_trial\u001b[49m\u001b[43m(\u001b[49m\u001b[43mstudy\u001b[49m\u001b[43m,\u001b[49m\u001b[43m \u001b[49m\u001b[43mfunc\u001b[49m\u001b[43m,\u001b[49m\u001b[43m \u001b[49m\u001b[43mcatch\u001b[49m\u001b[43m)\u001b[49m\n\u001b[0;32m    161\u001b[0m \u001b[38;5;28;01mfinally\u001b[39;00m:\n\u001b[0;32m    162\u001b[0m     \u001b[38;5;66;03m# The following line mitigates memory problems that can be occurred in some\u001b[39;00m\n\u001b[0;32m    163\u001b[0m     \u001b[38;5;66;03m# environments (e.g., services that use computing containers such as GitHub Actions).\u001b[39;00m\n\u001b[0;32m    164\u001b[0m     \u001b[38;5;66;03m# Please refer to the following PR for further details:\u001b[39;00m\n\u001b[0;32m    165\u001b[0m     \u001b[38;5;66;03m# https://github.com/optuna/optuna/pull/325.\u001b[39;00m\n\u001b[0;32m    166\u001b[0m     \u001b[38;5;28;01mif\u001b[39;00m gc_after_trial:\n",
      "File \u001b[1;32mc:\\Users\\User\\AppData\\Local\\Programs\\Python\\Python310\\lib\\site-packages\\optuna\\study\\_optimize.py:248\u001b[0m, in \u001b[0;36m_run_trial\u001b[1;34m(study, func, catch)\u001b[0m\n\u001b[0;32m    241\u001b[0m         \u001b[38;5;28;01massert\u001b[39;00m \u001b[38;5;28;01mFalse\u001b[39;00m, \u001b[38;5;124m\"\u001b[39m\u001b[38;5;124mShould not reach.\u001b[39m\u001b[38;5;124m\"\u001b[39m\n\u001b[0;32m    243\u001b[0m \u001b[38;5;28;01mif\u001b[39;00m (\n\u001b[0;32m    244\u001b[0m     frozen_trial\u001b[38;5;241m.\u001b[39mstate \u001b[38;5;241m==\u001b[39m TrialState\u001b[38;5;241m.\u001b[39mFAIL\n\u001b[0;32m    245\u001b[0m     \u001b[38;5;129;01mand\u001b[39;00m func_err \u001b[38;5;129;01mis\u001b[39;00m \u001b[38;5;129;01mnot\u001b[39;00m \u001b[38;5;28;01mNone\u001b[39;00m\n\u001b[0;32m    246\u001b[0m     \u001b[38;5;129;01mand\u001b[39;00m \u001b[38;5;129;01mnot\u001b[39;00m \u001b[38;5;28misinstance\u001b[39m(func_err, catch)\n\u001b[0;32m    247\u001b[0m ):\n\u001b[1;32m--> 248\u001b[0m     \u001b[38;5;28;01mraise\u001b[39;00m func_err\n\u001b[0;32m    249\u001b[0m \u001b[38;5;28;01mreturn\u001b[39;00m frozen_trial\n",
      "File \u001b[1;32mc:\\Users\\User\\AppData\\Local\\Programs\\Python\\Python310\\lib\\site-packages\\optuna\\study\\_optimize.py:197\u001b[0m, in \u001b[0;36m_run_trial\u001b[1;34m(study, func, catch)\u001b[0m\n\u001b[0;32m    195\u001b[0m \u001b[38;5;28;01mwith\u001b[39;00m get_heartbeat_thread(trial\u001b[38;5;241m.\u001b[39m_trial_id, study\u001b[38;5;241m.\u001b[39m_storage):\n\u001b[0;32m    196\u001b[0m     \u001b[38;5;28;01mtry\u001b[39;00m:\n\u001b[1;32m--> 197\u001b[0m         value_or_values \u001b[38;5;241m=\u001b[39m \u001b[43mfunc\u001b[49m\u001b[43m(\u001b[49m\u001b[43mtrial\u001b[49m\u001b[43m)\u001b[49m\n\u001b[0;32m    198\u001b[0m     \u001b[38;5;28;01mexcept\u001b[39;00m exceptions\u001b[38;5;241m.\u001b[39mTrialPruned \u001b[38;5;28;01mas\u001b[39;00m e:\n\u001b[0;32m    199\u001b[0m         \u001b[38;5;66;03m# TODO(mamu): Handle multi-objective cases.\u001b[39;00m\n\u001b[0;32m    200\u001b[0m         state \u001b[38;5;241m=\u001b[39m TrialState\u001b[38;5;241m.\u001b[39mPRUNED\n",
      "Cell \u001b[1;32mIn[42], line 13\u001b[0m, in \u001b[0;36mobjective\u001b[1;34m(trial)\u001b[0m\n\u001b[0;32m     10\u001b[0m model\u001b[38;5;241m.\u001b[39mcompile_model(learning_rate\u001b[38;5;241m=\u001b[39mlearning_rate)\n\u001b[0;32m     12\u001b[0m \u001b[38;5;66;03m# Train the model (you may use your existing train_loader and val_loader)\u001b[39;00m\n\u001b[1;32m---> 13\u001b[0m history_1 \u001b[38;5;241m=\u001b[39m \u001b[43mmodel\u001b[49m\u001b[38;5;241;43m.\u001b[39;49m\u001b[43mtrain_model\u001b[49m\u001b[43m(\u001b[49m\u001b[43mtrain_loader\u001b[49m\u001b[43m,\u001b[49m\u001b[43m \u001b[49m\u001b[43mepochs\u001b[49m\u001b[38;5;241;43m=\u001b[39;49m\u001b[43mEPOCHS\u001b[49m\u001b[43m)\u001b[49m\n\u001b[0;32m     15\u001b[0m \u001b[38;5;66;03m# Evaluate the model on the validation set\u001b[39;00m\n\u001b[0;32m     16\u001b[0m val_metrics \u001b[38;5;241m=\u001b[39m model\u001b[38;5;241m.\u001b[39mevaluate(val_loader)\n",
      "Cell \u001b[1;32mIn[41], line 61\u001b[0m, in \u001b[0;36mDBNModel.train_model\u001b[1;34m(self, train_loader, epochs, checkpoint_dir)\u001b[0m\n\u001b[0;32m     59\u001b[0m loss \u001b[38;5;241m=\u001b[39m \u001b[38;5;28mself\u001b[39m\u001b[38;5;241m.\u001b[39mcriterion(output, target)\n\u001b[0;32m     60\u001b[0m loss\u001b[38;5;241m.\u001b[39mbackward()\n\u001b[1;32m---> 61\u001b[0m \u001b[38;5;28;43mself\u001b[39;49m\u001b[38;5;241;43m.\u001b[39;49m\u001b[43moptimizer\u001b[49m\u001b[38;5;241;43m.\u001b[39;49m\u001b[43mstep\u001b[49m\u001b[43m(\u001b[49m\u001b[43m)\u001b[49m\n\u001b[0;32m     63\u001b[0m total_loss \u001b[38;5;241m+\u001b[39m\u001b[38;5;241m=\u001b[39m loss\u001b[38;5;241m.\u001b[39mitem()\n\u001b[0;32m     64\u001b[0m pred \u001b[38;5;241m=\u001b[39m output\u001b[38;5;241m.\u001b[39margmax(dim\u001b[38;5;241m=\u001b[39m\u001b[38;5;241m1\u001b[39m, keepdim\u001b[38;5;241m=\u001b[39m\u001b[38;5;28;01mTrue\u001b[39;00m)\n",
      "File \u001b[1;32mc:\\Users\\User\\AppData\\Local\\Programs\\Python\\Python310\\lib\\site-packages\\torch\\optim\\optimizer.py:484\u001b[0m, in \u001b[0;36mOptimizer.profile_hook_step.<locals>.wrapper\u001b[1;34m(*args, **kwargs)\u001b[0m\n\u001b[0;32m    479\u001b[0m         \u001b[38;5;28;01melse\u001b[39;00m:\n\u001b[0;32m    480\u001b[0m             \u001b[38;5;28;01mraise\u001b[39;00m \u001b[38;5;167;01mRuntimeError\u001b[39;00m(\n\u001b[0;32m    481\u001b[0m                 \u001b[38;5;124mf\u001b[39m\u001b[38;5;124m\"\u001b[39m\u001b[38;5;132;01m{\u001b[39;00mfunc\u001b[38;5;132;01m}\u001b[39;00m\u001b[38;5;124m must return None or a tuple of (new_args, new_kwargs), but got \u001b[39m\u001b[38;5;132;01m{\u001b[39;00mresult\u001b[38;5;132;01m}\u001b[39;00m\u001b[38;5;124m.\u001b[39m\u001b[38;5;124m\"\u001b[39m\n\u001b[0;32m    482\u001b[0m             )\n\u001b[1;32m--> 484\u001b[0m out \u001b[38;5;241m=\u001b[39m func(\u001b[38;5;241m*\u001b[39margs, \u001b[38;5;241m*\u001b[39m\u001b[38;5;241m*\u001b[39mkwargs)\n\u001b[0;32m    485\u001b[0m \u001b[38;5;28mself\u001b[39m\u001b[38;5;241m.\u001b[39m_optimizer_step_code()\n\u001b[0;32m    487\u001b[0m \u001b[38;5;66;03m# call optimizer step post hooks\u001b[39;00m\n",
      "File \u001b[1;32mc:\\Users\\User\\AppData\\Local\\Programs\\Python\\Python310\\lib\\site-packages\\torch\\optim\\optimizer.py:89\u001b[0m, in \u001b[0;36m_use_grad_for_differentiable.<locals>._use_grad\u001b[1;34m(self, *args, **kwargs)\u001b[0m\n\u001b[0;32m     87\u001b[0m     torch\u001b[38;5;241m.\u001b[39mset_grad_enabled(\u001b[38;5;28mself\u001b[39m\u001b[38;5;241m.\u001b[39mdefaults[\u001b[38;5;124m\"\u001b[39m\u001b[38;5;124mdifferentiable\u001b[39m\u001b[38;5;124m\"\u001b[39m])\n\u001b[0;32m     88\u001b[0m     torch\u001b[38;5;241m.\u001b[39m_dynamo\u001b[38;5;241m.\u001b[39mgraph_break()\n\u001b[1;32m---> 89\u001b[0m     ret \u001b[38;5;241m=\u001b[39m func(\u001b[38;5;28mself\u001b[39m, \u001b[38;5;241m*\u001b[39margs, \u001b[38;5;241m*\u001b[39m\u001b[38;5;241m*\u001b[39mkwargs)\n\u001b[0;32m     90\u001b[0m \u001b[38;5;28;01mfinally\u001b[39;00m:\n\u001b[0;32m     91\u001b[0m     torch\u001b[38;5;241m.\u001b[39m_dynamo\u001b[38;5;241m.\u001b[39mgraph_break()\n",
      "File \u001b[1;32mc:\\Users\\User\\AppData\\Local\\Programs\\Python\\Python310\\lib\\site-packages\\torch\\optim\\adam.py:226\u001b[0m, in \u001b[0;36mAdam.step\u001b[1;34m(self, closure)\u001b[0m\n\u001b[0;32m    214\u001b[0m     beta1, beta2 \u001b[38;5;241m=\u001b[39m group[\u001b[38;5;124m\"\u001b[39m\u001b[38;5;124mbetas\u001b[39m\u001b[38;5;124m\"\u001b[39m]\n\u001b[0;32m    216\u001b[0m     has_complex \u001b[38;5;241m=\u001b[39m \u001b[38;5;28mself\u001b[39m\u001b[38;5;241m.\u001b[39m_init_group(\n\u001b[0;32m    217\u001b[0m         group,\n\u001b[0;32m    218\u001b[0m         params_with_grad,\n\u001b[1;32m   (...)\u001b[0m\n\u001b[0;32m    223\u001b[0m         state_steps,\n\u001b[0;32m    224\u001b[0m     )\n\u001b[1;32m--> 226\u001b[0m     \u001b[43madam\u001b[49m\u001b[43m(\u001b[49m\n\u001b[0;32m    227\u001b[0m \u001b[43m        \u001b[49m\u001b[43mparams_with_grad\u001b[49m\u001b[43m,\u001b[49m\n\u001b[0;32m    228\u001b[0m \u001b[43m        \u001b[49m\u001b[43mgrads\u001b[49m\u001b[43m,\u001b[49m\n\u001b[0;32m    229\u001b[0m \u001b[43m        \u001b[49m\u001b[43mexp_avgs\u001b[49m\u001b[43m,\u001b[49m\n\u001b[0;32m    230\u001b[0m \u001b[43m        \u001b[49m\u001b[43mexp_avg_sqs\u001b[49m\u001b[43m,\u001b[49m\n\u001b[0;32m    231\u001b[0m \u001b[43m        \u001b[49m\u001b[43mmax_exp_avg_sqs\u001b[49m\u001b[43m,\u001b[49m\n\u001b[0;32m    232\u001b[0m \u001b[43m        \u001b[49m\u001b[43mstate_steps\u001b[49m\u001b[43m,\u001b[49m\n\u001b[0;32m    233\u001b[0m \u001b[43m        \u001b[49m\u001b[43mamsgrad\u001b[49m\u001b[38;5;241;43m=\u001b[39;49m\u001b[43mgroup\u001b[49m\u001b[43m[\u001b[49m\u001b[38;5;124;43m\"\u001b[39;49m\u001b[38;5;124;43mamsgrad\u001b[39;49m\u001b[38;5;124;43m\"\u001b[39;49m\u001b[43m]\u001b[49m\u001b[43m,\u001b[49m\n\u001b[0;32m    234\u001b[0m \u001b[43m        \u001b[49m\u001b[43mhas_complex\u001b[49m\u001b[38;5;241;43m=\u001b[39;49m\u001b[43mhas_complex\u001b[49m\u001b[43m,\u001b[49m\n\u001b[0;32m    235\u001b[0m \u001b[43m        \u001b[49m\u001b[43mbeta1\u001b[49m\u001b[38;5;241;43m=\u001b[39;49m\u001b[43mbeta1\u001b[49m\u001b[43m,\u001b[49m\n\u001b[0;32m    236\u001b[0m \u001b[43m        \u001b[49m\u001b[43mbeta2\u001b[49m\u001b[38;5;241;43m=\u001b[39;49m\u001b[43mbeta2\u001b[49m\u001b[43m,\u001b[49m\n\u001b[0;32m    237\u001b[0m \u001b[43m        \u001b[49m\u001b[43mlr\u001b[49m\u001b[38;5;241;43m=\u001b[39;49m\u001b[43mgroup\u001b[49m\u001b[43m[\u001b[49m\u001b[38;5;124;43m\"\u001b[39;49m\u001b[38;5;124;43mlr\u001b[39;49m\u001b[38;5;124;43m\"\u001b[39;49m\u001b[43m]\u001b[49m\u001b[43m,\u001b[49m\n\u001b[0;32m    238\u001b[0m \u001b[43m        \u001b[49m\u001b[43mweight_decay\u001b[49m\u001b[38;5;241;43m=\u001b[39;49m\u001b[43mgroup\u001b[49m\u001b[43m[\u001b[49m\u001b[38;5;124;43m\"\u001b[39;49m\u001b[38;5;124;43mweight_decay\u001b[39;49m\u001b[38;5;124;43m\"\u001b[39;49m\u001b[43m]\u001b[49m\u001b[43m,\u001b[49m\n\u001b[0;32m    239\u001b[0m \u001b[43m        \u001b[49m\u001b[43meps\u001b[49m\u001b[38;5;241;43m=\u001b[39;49m\u001b[43mgroup\u001b[49m\u001b[43m[\u001b[49m\u001b[38;5;124;43m\"\u001b[39;49m\u001b[38;5;124;43meps\u001b[39;49m\u001b[38;5;124;43m\"\u001b[39;49m\u001b[43m]\u001b[49m\u001b[43m,\u001b[49m\n\u001b[0;32m    240\u001b[0m \u001b[43m        \u001b[49m\u001b[43mmaximize\u001b[49m\u001b[38;5;241;43m=\u001b[39;49m\u001b[43mgroup\u001b[49m\u001b[43m[\u001b[49m\u001b[38;5;124;43m\"\u001b[39;49m\u001b[38;5;124;43mmaximize\u001b[39;49m\u001b[38;5;124;43m\"\u001b[39;49m\u001b[43m]\u001b[49m\u001b[43m,\u001b[49m\n\u001b[0;32m    241\u001b[0m \u001b[43m        \u001b[49m\u001b[43mforeach\u001b[49m\u001b[38;5;241;43m=\u001b[39;49m\u001b[43mgroup\u001b[49m\u001b[43m[\u001b[49m\u001b[38;5;124;43m\"\u001b[39;49m\u001b[38;5;124;43mforeach\u001b[39;49m\u001b[38;5;124;43m\"\u001b[39;49m\u001b[43m]\u001b[49m\u001b[43m,\u001b[49m\n\u001b[0;32m    242\u001b[0m \u001b[43m        \u001b[49m\u001b[43mcapturable\u001b[49m\u001b[38;5;241;43m=\u001b[39;49m\u001b[43mgroup\u001b[49m\u001b[43m[\u001b[49m\u001b[38;5;124;43m\"\u001b[39;49m\u001b[38;5;124;43mcapturable\u001b[39;49m\u001b[38;5;124;43m\"\u001b[39;49m\u001b[43m]\u001b[49m\u001b[43m,\u001b[49m\n\u001b[0;32m    243\u001b[0m \u001b[43m        \u001b[49m\u001b[43mdifferentiable\u001b[49m\u001b[38;5;241;43m=\u001b[39;49m\u001b[43mgroup\u001b[49m\u001b[43m[\u001b[49m\u001b[38;5;124;43m\"\u001b[39;49m\u001b[38;5;124;43mdifferentiable\u001b[39;49m\u001b[38;5;124;43m\"\u001b[39;49m\u001b[43m]\u001b[49m\u001b[43m,\u001b[49m\n\u001b[0;32m    244\u001b[0m \u001b[43m        \u001b[49m\u001b[43mfused\u001b[49m\u001b[38;5;241;43m=\u001b[39;49m\u001b[43mgroup\u001b[49m\u001b[43m[\u001b[49m\u001b[38;5;124;43m\"\u001b[39;49m\u001b[38;5;124;43mfused\u001b[39;49m\u001b[38;5;124;43m\"\u001b[39;49m\u001b[43m]\u001b[49m\u001b[43m,\u001b[49m\n\u001b[0;32m    245\u001b[0m \u001b[43m        \u001b[49m\u001b[43mgrad_scale\u001b[49m\u001b[38;5;241;43m=\u001b[39;49m\u001b[38;5;28;43mgetattr\u001b[39;49m\u001b[43m(\u001b[49m\u001b[38;5;28;43mself\u001b[39;49m\u001b[43m,\u001b[49m\u001b[43m \u001b[49m\u001b[38;5;124;43m\"\u001b[39;49m\u001b[38;5;124;43mgrad_scale\u001b[39;49m\u001b[38;5;124;43m\"\u001b[39;49m\u001b[43m,\u001b[49m\u001b[43m \u001b[49m\u001b[38;5;28;43;01mNone\u001b[39;49;00m\u001b[43m)\u001b[49m\u001b[43m,\u001b[49m\n\u001b[0;32m    246\u001b[0m \u001b[43m        \u001b[49m\u001b[43mfound_inf\u001b[49m\u001b[38;5;241;43m=\u001b[39;49m\u001b[38;5;28;43mgetattr\u001b[39;49m\u001b[43m(\u001b[49m\u001b[38;5;28;43mself\u001b[39;49m\u001b[43m,\u001b[49m\u001b[43m \u001b[49m\u001b[38;5;124;43m\"\u001b[39;49m\u001b[38;5;124;43mfound_inf\u001b[39;49m\u001b[38;5;124;43m\"\u001b[39;49m\u001b[43m,\u001b[49m\u001b[43m \u001b[49m\u001b[38;5;28;43;01mNone\u001b[39;49;00m\u001b[43m)\u001b[49m\u001b[43m,\u001b[49m\n\u001b[0;32m    247\u001b[0m \u001b[43m    \u001b[49m\u001b[43m)\u001b[49m\n\u001b[0;32m    249\u001b[0m \u001b[38;5;28;01mreturn\u001b[39;00m loss\n",
      "File \u001b[1;32mc:\\Users\\User\\AppData\\Local\\Programs\\Python\\Python310\\lib\\site-packages\\torch\\optim\\optimizer.py:161\u001b[0m, in \u001b[0;36m_disable_dynamo_if_unsupported.<locals>.wrapper.<locals>.maybe_fallback\u001b[1;34m(*args, **kwargs)\u001b[0m\n\u001b[0;32m    159\u001b[0m     \u001b[38;5;28;01mreturn\u001b[39;00m disabled_func(\u001b[38;5;241m*\u001b[39margs, \u001b[38;5;241m*\u001b[39m\u001b[38;5;241m*\u001b[39mkwargs)\n\u001b[0;32m    160\u001b[0m \u001b[38;5;28;01melse\u001b[39;00m:\n\u001b[1;32m--> 161\u001b[0m     \u001b[38;5;28;01mreturn\u001b[39;00m func(\u001b[38;5;241m*\u001b[39margs, \u001b[38;5;241m*\u001b[39m\u001b[38;5;241m*\u001b[39mkwargs)\n",
      "File \u001b[1;32mc:\\Users\\User\\AppData\\Local\\Programs\\Python\\Python310\\lib\\site-packages\\torch\\optim\\adam.py:766\u001b[0m, in \u001b[0;36madam\u001b[1;34m(params, grads, exp_avgs, exp_avg_sqs, max_exp_avg_sqs, state_steps, foreach, capturable, differentiable, fused, grad_scale, found_inf, has_complex, amsgrad, beta1, beta2, lr, weight_decay, eps, maximize)\u001b[0m\n\u001b[0;32m    763\u001b[0m \u001b[38;5;28;01melse\u001b[39;00m:\n\u001b[0;32m    764\u001b[0m     func \u001b[38;5;241m=\u001b[39m _single_tensor_adam\n\u001b[1;32m--> 766\u001b[0m \u001b[43mfunc\u001b[49m\u001b[43m(\u001b[49m\n\u001b[0;32m    767\u001b[0m \u001b[43m    \u001b[49m\u001b[43mparams\u001b[49m\u001b[43m,\u001b[49m\n\u001b[0;32m    768\u001b[0m \u001b[43m    \u001b[49m\u001b[43mgrads\u001b[49m\u001b[43m,\u001b[49m\n\u001b[0;32m    769\u001b[0m \u001b[43m    \u001b[49m\u001b[43mexp_avgs\u001b[49m\u001b[43m,\u001b[49m\n\u001b[0;32m    770\u001b[0m \u001b[43m    \u001b[49m\u001b[43mexp_avg_sqs\u001b[49m\u001b[43m,\u001b[49m\n\u001b[0;32m    771\u001b[0m \u001b[43m    \u001b[49m\u001b[43mmax_exp_avg_sqs\u001b[49m\u001b[43m,\u001b[49m\n\u001b[0;32m    772\u001b[0m \u001b[43m    \u001b[49m\u001b[43mstate_steps\u001b[49m\u001b[43m,\u001b[49m\n\u001b[0;32m    773\u001b[0m \u001b[43m    \u001b[49m\u001b[43mamsgrad\u001b[49m\u001b[38;5;241;43m=\u001b[39;49m\u001b[43mamsgrad\u001b[49m\u001b[43m,\u001b[49m\n\u001b[0;32m    774\u001b[0m \u001b[43m    \u001b[49m\u001b[43mhas_complex\u001b[49m\u001b[38;5;241;43m=\u001b[39;49m\u001b[43mhas_complex\u001b[49m\u001b[43m,\u001b[49m\n\u001b[0;32m    775\u001b[0m \u001b[43m    \u001b[49m\u001b[43mbeta1\u001b[49m\u001b[38;5;241;43m=\u001b[39;49m\u001b[43mbeta1\u001b[49m\u001b[43m,\u001b[49m\n\u001b[0;32m    776\u001b[0m \u001b[43m    \u001b[49m\u001b[43mbeta2\u001b[49m\u001b[38;5;241;43m=\u001b[39;49m\u001b[43mbeta2\u001b[49m\u001b[43m,\u001b[49m\n\u001b[0;32m    777\u001b[0m \u001b[43m    \u001b[49m\u001b[43mlr\u001b[49m\u001b[38;5;241;43m=\u001b[39;49m\u001b[43mlr\u001b[49m\u001b[43m,\u001b[49m\n\u001b[0;32m    778\u001b[0m \u001b[43m    \u001b[49m\u001b[43mweight_decay\u001b[49m\u001b[38;5;241;43m=\u001b[39;49m\u001b[43mweight_decay\u001b[49m\u001b[43m,\u001b[49m\n\u001b[0;32m    779\u001b[0m \u001b[43m    \u001b[49m\u001b[43meps\u001b[49m\u001b[38;5;241;43m=\u001b[39;49m\u001b[43meps\u001b[49m\u001b[43m,\u001b[49m\n\u001b[0;32m    780\u001b[0m \u001b[43m    \u001b[49m\u001b[43mmaximize\u001b[49m\u001b[38;5;241;43m=\u001b[39;49m\u001b[43mmaximize\u001b[49m\u001b[43m,\u001b[49m\n\u001b[0;32m    781\u001b[0m \u001b[43m    \u001b[49m\u001b[43mcapturable\u001b[49m\u001b[38;5;241;43m=\u001b[39;49m\u001b[43mcapturable\u001b[49m\u001b[43m,\u001b[49m\n\u001b[0;32m    782\u001b[0m \u001b[43m    \u001b[49m\u001b[43mdifferentiable\u001b[49m\u001b[38;5;241;43m=\u001b[39;49m\u001b[43mdifferentiable\u001b[49m\u001b[43m,\u001b[49m\n\u001b[0;32m    783\u001b[0m \u001b[43m    \u001b[49m\u001b[43mgrad_scale\u001b[49m\u001b[38;5;241;43m=\u001b[39;49m\u001b[43mgrad_scale\u001b[49m\u001b[43m,\u001b[49m\n\u001b[0;32m    784\u001b[0m \u001b[43m    \u001b[49m\u001b[43mfound_inf\u001b[49m\u001b[38;5;241;43m=\u001b[39;49m\u001b[43mfound_inf\u001b[49m\u001b[43m,\u001b[49m\n\u001b[0;32m    785\u001b[0m \u001b[43m\u001b[49m\u001b[43m)\u001b[49m\n",
      "File \u001b[1;32mc:\\Users\\User\\AppData\\Local\\Programs\\Python\\Python310\\lib\\site-packages\\torch\\optim\\adam.py:431\u001b[0m, in \u001b[0;36m_single_tensor_adam\u001b[1;34m(params, grads, exp_avgs, exp_avg_sqs, max_exp_avg_sqs, state_steps, grad_scale, found_inf, amsgrad, has_complex, beta1, beta2, lr, weight_decay, eps, maximize, capturable, differentiable)\u001b[0m\n\u001b[0;32m    429\u001b[0m         denom \u001b[38;5;241m=\u001b[39m (max_exp_avg_sqs[i]\u001b[38;5;241m.\u001b[39msqrt() \u001b[38;5;241m/\u001b[39m bias_correction2_sqrt)\u001b[38;5;241m.\u001b[39madd_(eps)\n\u001b[0;32m    430\u001b[0m     \u001b[38;5;28;01melse\u001b[39;00m:\n\u001b[1;32m--> 431\u001b[0m         denom \u001b[38;5;241m=\u001b[39m (\u001b[43mexp_avg_sq\u001b[49m\u001b[38;5;241;43m.\u001b[39;49m\u001b[43msqrt\u001b[49m\u001b[43m(\u001b[49m\u001b[43m)\u001b[49m \u001b[38;5;241m/\u001b[39m bias_correction2_sqrt)\u001b[38;5;241m.\u001b[39madd_(eps)\n\u001b[0;32m    433\u001b[0m     param\u001b[38;5;241m.\u001b[39maddcdiv_(exp_avg, denom, value\u001b[38;5;241m=\u001b[39m\u001b[38;5;241m-\u001b[39mstep_size)\n\u001b[0;32m    435\u001b[0m \u001b[38;5;66;03m# Lastly, switch back to complex view\u001b[39;00m\n",
      "\u001b[1;31mKeyboardInterrupt\u001b[0m: "
     ]
    }
   ],
   "source": [
    "# Define the objective function\n",
    "def objective(trial):\n",
    "    # Suggest hyperparameters for tuning\n",
    "    learning_rate = trial.suggest_float('learning_rate', 1e-5, 1e-1, log=True)\n",
    "    hidden_units_1 = trial.suggest_int('hidden_units_1', 64, 256)\n",
    "    hidden_units_2 = trial.suggest_int('hidden_units_2', 32, 128)\n",
    "\n",
    "    # Create the model with the suggested hyperparameters\n",
    "    model = DBNModel(visible_units=784, hidden_units_1=hidden_units_1, hidden_units_2=hidden_units_2, n_classes=2)\n",
    "    model.compile_model(learning_rate=learning_rate)\n",
    "\n",
    "    # Train the model (you may use your existing train_loader and val_loader)\n",
    "    history_1 = model.train_model(train_loader, epochs=EPOCHS)\n",
    "\n",
    "    # Evaluate the model on the validation set\n",
    "    val_metrics = model.evaluate(val_loader)\n",
    "\n",
    "    # The objective is to maximize accuracy, so return the validation accuracy\n",
    "    return val_metrics['accuracy']\n",
    "\n",
    "# Create a study object\n",
    "study = optuna.create_study(direction='maximize')\n",
    "\n",
    "# Run the optimization\n",
    "study.optimize(objective, n_trials=100)\n",
    "\n",
    "# Retrieve the best hyperparameters\n",
    "best_hyperparameters = study.best_trial\n",
    "\n",
    "# Extract the best learning rate if it was tuned\n",
    "best_learning_rate = best_hyperparameters.params.get('learning_rate', 0.001)  # Default to 0.001 if not tuned\n",
    "\n",
    "# Print the best learning rate to verify\n",
    "print(f\"Best learning rate: {best_learning_rate}\")\n",
    "print(best_hyperparameters.params)\n",
    "\n",
    "# Build the model using the best hyperparameters\n",
    "best_model, best_optimizer = hypermodel.build(best_hyperparameters)\n",
    "\n",
    "# Ensure the optimizer uses the best learning rate\n",
    "for param_group in best_optimizer.param_groups:\n",
    "    param_group['lr'] = best_learning_rate\n",
    "\n",
    "# Example of a learning rate scheduler and early stopping in PyTorch\n",
    "from torch.optim.lr_scheduler import ReduceLROnPlateau\n",
    "\n",
    "# Learning rate scheduler\n",
    "scheduler = ReduceLROnPlateau(best_optimizer, mode='min', factor=0.2, patience=3, min_lr=1e-5)\n",
    "\n",
    "# Early stopping parameters\n",
    "early_stopping_patience = 5\n",
    "best_val_loss = float('inf')\n",
    "patience_counter = 0\n",
    "\n",
    "history_best = {'loss': [], 'val_loss': [], 'accuracy': [], 'val_accuracy': []}\n",
    "\n",
    "for epoch in range(EPOCHS):\n",
    "    best_model.train()\n",
    "    total_loss = 0\n",
    "    correct = 0\n",
    "    \n",
    "    # Training loop\n",
    "    for data, target in train_loader:\n",
    "        best_optimizer.zero_grad()\n",
    "        output = best_model(data)\n",
    "        loss = nn.CrossEntropyLoss()(output, target)\n",
    "        loss.backward()\n",
    "        best_optimizer.step()\n",
    "        \n",
    "        total_loss += loss.item()\n",
    "        pred = output.argmax(dim=1, keepdim=True)\n",
    "        correct += pred.eq(target.view_as(pred)).sum().item()\n",
    "    \n",
    "    # Validation loop\n",
    "    best_model.eval()\n",
    "    val_loss = 0\n",
    "    val_correct = 0\n",
    "    with torch.no_grad():\n",
    "        for data, target in val_loader:\n",
    "            output = best_model(data)\n",
    "            loss = nn.CrossEntropyLoss()(output, target)\n",
    "            val_loss += loss.item()\n",
    "            pred = output.argmax(dim=1, keepdim=True)\n",
    "            val_correct += pred.eq(target.view_as(pred)).sum().item()\n",
    "    \n",
    "    # Compute average losses\n",
    "    avg_train_loss = total_loss / len(train_loader)\n",
    "    avg_val_loss = val_loss / len(val_loader)\n",
    "    train_accuracy = correct / len(train_loader.dataset)\n",
    "    val_accuracy = val_correct / len(val_loader.dataset)\n",
    "    \n",
    "    # Append to history\n",
    "    history_best['loss'].append(avg_train_loss)\n",
    "    history_best['val_loss'].append(avg_val_loss)\n",
    "    history_best['accuracy'].append(train_accuracy)\n",
    "    history_best['val_accuracy'].append(val_accuracy)\n",
    "    \n",
    "    # Print epoch summary\n",
    "    print(f'Epoch {epoch+1}/{EPOCHS}, Loss: {avg_train_loss:.4f}, Val Loss: {avg_val_loss:.4f}, Accuracy: {train_accuracy:.4f}, Val Accuracy: {val_accuracy:.4f}')\n",
    "    \n",
    "    # Early stopping and learning rate scheduling\n",
    "    scheduler.step(avg_val_loss)\n",
    "    if avg_val_loss < best_val_loss:\n",
    "        best_val_loss = avg_val_loss\n",
    "        patience_counter = 0\n",
    "        torch.save(best_model.state_dict(), os.path.join(CHECKPOINT_DIR, 'best_dbn_model.pth'))  # Save the best model\n",
    "    else:\n",
    "        patience_counter += 1\n",
    "    \n",
    "    if patience_counter >= early_stopping_patience:\n",
    "        print(\"Early stopping triggered.\")\n",
    "        break\n",
    "\n",
    "# Load the best model\n",
    "best_model.load_state_dict(torch.load(os.path.join(CHECKPOINT_DIR, 'best_dbn_model.pth')))\n",
    "best_model.eval()\n",
    "\n",
    "# Evaluate the best model on the test set\n",
    "test_loss = 0\n",
    "correct = 0\n",
    "with torch.no_grad():\n",
    "    for data, target in test_loader:\n",
    "        output = best_model(data)\n",
    "        loss = nn.CrossEntropyLoss()(output, target)\n",
    "        test_loss += loss.item()\n",
    "        pred = output.argmax(dim=1, keepdim=True)\n",
    "        correct += pred.eq(target.view_as(pred)).sum().item()\n",
    "\n",
    "test_loss /= len(test_loader.dataset)\n",
    "test_accuracy = correct / len(test_loader.dataset)\n",
    "\n",
    "print(f'Best model testing Loss: {test_loss:.4f}, Testing Accuracy: {test_accuracy:.4f}')"
   ]
  },
  {
   "cell_type": "code",
   "execution_count": null,
   "metadata": {},
   "outputs": [],
   "source": [
    "plot_metrics(history_best)"
   ]
  },
  {
   "cell_type": "code",
   "execution_count": null,
   "metadata": {},
   "outputs": [],
   "source": [
    "# Save the best model\n",
    "torch.save(best_model.state_dict(), SAVE_PATH + 'best_dbn_model.pth')"
   ]
  },
  {
   "cell_type": "markdown",
   "metadata": {},
   "source": [
    "# Testing"
   ]
  },
  {
   "cell_type": "code",
   "execution_count": null,
   "metadata": {},
   "outputs": [],
   "source": []
  }
 ],
 "metadata": {
  "kernelspec": {
   "display_name": "Python 3",
   "language": "python",
   "name": "python3"
  },
  "language_info": {
   "codemirror_mode": {
    "name": "ipython",
    "version": 3
   },
   "file_extension": ".py",
   "mimetype": "text/x-python",
   "name": "python",
   "nbconvert_exporter": "python",
   "pygments_lexer": "ipython3",
   "version": "3.10.1"
  }
 },
 "nbformat": 4,
 "nbformat_minor": 2
}
