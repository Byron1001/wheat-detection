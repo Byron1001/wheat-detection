{
 "cells": [
  {
   "cell_type": "markdown",
   "metadata": {},
   "source": [
    "- python please use version 3.10.x\n",
    "- if tensorflow or torch for GPU cannot run, need to reconfigure env and inform in group then\n",
    "- refer to https://www.tensorflow.org/install/source_windows"
   ]
  },
  {
   "cell_type": "markdown",
   "metadata": {},
   "source": [
    "- for pytorch gpu please refer to\n",
    "- https://pytorch.org\n",
    "- https://developer.nvidia.com/rdp/cudnn-archive\n",
    "- https://developer.nvidia.com/cuda-11.2.0-download-archive?target_os=Windows&target_arch=x86_64&target_version=10&target_type=exenetwork\n",
    "- https://medium.com/@omkardalvi2001/gpu-for-machine-learning-cuda-cudnn-and-tensorflow-cb5f3ee4b5ac\n",
    "- https://melika-sce.medium.com/step-by-step-guide-to-setup-tensorflow-with-gpu-support-on-windows-10-ad3a492ac67f\n"
   ]
  },
  {
   "cell_type": "code",
   "execution_count": 5,
   "metadata": {},
   "outputs": [
    {
     "name": "stdout",
     "output_type": "stream",
     "text": [
      "Requirement already satisfied: numpy in c:\\users\\wenshen\\anaconda3\\envs\\aikka\\lib\\site-packages (from -r ./req.txt (line 1)) (1.26.4)\n",
      "Requirement already satisfied: pandas in c:\\users\\wenshen\\anaconda3\\envs\\aikka\\lib\\site-packages (from -r ./req.txt (line 2)) (2.2.2)\n",
      "Requirement already satisfied: cv in c:\\users\\wenshen\\anaconda3\\envs\\aikka\\lib\\site-packages (from -r ./req.txt (line 3)) (1.0.0)\n",
      "Requirement already satisfied: matplotlib in c:\\users\\wenshen\\anaconda3\\envs\\aikka\\lib\\site-packages (from -r ./req.txt (line 4)) (3.9.1.post1)\n",
      "Collecting seaborn (from -r ./req.txt (line 5))\n",
      "  Using cached seaborn-0.13.2-py3-none-any.whl.metadata (5.4 kB)\n",
      "Collecting bokeh (from -r ./req.txt (line 6))\n",
      "  Downloading bokeh-3.4.3-py3-none-any.whl.metadata (12 kB)\n",
      "Collecting albumentations (from -r ./req.txt (line 7))\n",
      "  Using cached albumentations-1.4.14-py3-none-any.whl.metadata (38 kB)\n",
      "Requirement already satisfied: keras in c:\\users\\wenshen\\anaconda3\\envs\\aikka\\lib\\site-packages (from -r ./req.txt (line 8)) (2.10.0)\n",
      "Requirement already satisfied: tensorflow in c:\\users\\wenshen\\anaconda3\\envs\\aikka\\lib\\site-packages (from -r ./req.txt (line 9)) (2.17.0)\n",
      "Requirement already satisfied: torch in c:\\users\\wenshen\\anaconda3\\envs\\aikka\\lib\\site-packages (from -r ./req.txt (line 10)) (2.3.1)\n",
      "Requirement already satisfied: tqdm in c:\\users\\wenshen\\anaconda3\\envs\\aikka\\lib\\site-packages (from -r ./req.txt (line 11)) (4.66.5)\n",
      "Collecting mrcnn (from -r ./req.txt (line 12))\n",
      "  Using cached mrcnn-0.2.tar.gz (51 kB)\n",
      "  Preparing metadata (setup.py): started\n",
      "  Preparing metadata (setup.py): finished with status 'done'\n",
      "Collecting keras-tuner (from -r ./req.txt (line 13))\n",
      "  Using cached keras_tuner-1.4.7-py3-none-any.whl.metadata (5.4 kB)\n",
      "Requirement already satisfied: scikit-learn in c:\\users\\wenshen\\anaconda3\\envs\\aikka\\lib\\site-packages (from -r ./req.txt (line 14)) (1.5.1)\n",
      "Requirement already satisfied: python-dateutil>=2.8.2 in c:\\users\\wenshen\\anaconda3\\envs\\aikka\\lib\\site-packages (from pandas->-r ./req.txt (line 2)) (2.9.0)\n",
      "Requirement already satisfied: pytz>=2020.1 in c:\\users\\wenshen\\anaconda3\\envs\\aikka\\lib\\site-packages (from pandas->-r ./req.txt (line 2)) (2024.1)\n",
      "Requirement already satisfied: tzdata>=2022.7 in c:\\users\\wenshen\\anaconda3\\envs\\aikka\\lib\\site-packages (from pandas->-r ./req.txt (line 2)) (2024.1)\n",
      "Requirement already satisfied: contourpy>=1.0.1 in c:\\users\\wenshen\\anaconda3\\envs\\aikka\\lib\\site-packages (from matplotlib->-r ./req.txt (line 4)) (1.2.1)\n",
      "Requirement already satisfied: cycler>=0.10 in c:\\users\\wenshen\\anaconda3\\envs\\aikka\\lib\\site-packages (from matplotlib->-r ./req.txt (line 4)) (0.12.1)\n",
      "Requirement already satisfied: fonttools>=4.22.0 in c:\\users\\wenshen\\anaconda3\\envs\\aikka\\lib\\site-packages (from matplotlib->-r ./req.txt (line 4)) (4.53.1)\n",
      "Requirement already satisfied: kiwisolver>=1.3.1 in c:\\users\\wenshen\\anaconda3\\envs\\aikka\\lib\\site-packages (from matplotlib->-r ./req.txt (line 4)) (1.4.5)\n",
      "Requirement already satisfied: packaging>=20.0 in c:\\users\\wenshen\\anaconda3\\envs\\aikka\\lib\\site-packages (from matplotlib->-r ./req.txt (line 4)) (24.1)\n",
      "Requirement already satisfied: pillow>=8 in c:\\users\\wenshen\\anaconda3\\envs\\aikka\\lib\\site-packages (from matplotlib->-r ./req.txt (line 4)) (10.4.0)\n",
      "Requirement already satisfied: pyparsing>=2.3.1 in c:\\users\\wenshen\\anaconda3\\envs\\aikka\\lib\\site-packages (from matplotlib->-r ./req.txt (line 4)) (3.1.2)\n",
      "Requirement already satisfied: importlib-resources>=3.2.0 in c:\\users\\wenshen\\anaconda3\\envs\\aikka\\lib\\site-packages (from matplotlib->-r ./req.txt (line 4)) (6.4.0)\n",
      "Requirement already satisfied: Jinja2>=2.9 in c:\\users\\wenshen\\anaconda3\\envs\\aikka\\lib\\site-packages (from bokeh->-r ./req.txt (line 6)) (3.1.4)\n",
      "Collecting PyYAML>=3.10 (from bokeh->-r ./req.txt (line 6))\n",
      "  Downloading PyYAML-6.0.2-cp39-cp39-win_amd64.whl.metadata (2.1 kB)\n",
      "Requirement already satisfied: tornado>=6.2 in c:\\users\\wenshen\\anaconda3\\envs\\aikka\\lib\\site-packages (from bokeh->-r ./req.txt (line 6)) (6.4.1)\n",
      "Collecting xyzservices>=2021.09.1 (from bokeh->-r ./req.txt (line 6))\n",
      "  Using cached xyzservices-2024.6.0-py3-none-any.whl.metadata (4.0 kB)\n",
      "Requirement already satisfied: scipy>=1.10.0 in c:\\users\\wenshen\\anaconda3\\envs\\aikka\\lib\\site-packages (from albumentations->-r ./req.txt (line 7)) (1.13.1)\n",
      "Collecting scikit-image>=0.21.0 (from albumentations->-r ./req.txt (line 7))\n",
      "  Downloading scikit_image-0.24.0-cp39-cp39-win_amd64.whl.metadata (14 kB)\n",
      "Requirement already satisfied: typing-extensions>=4.9.0 in c:\\users\\wenshen\\anaconda3\\envs\\aikka\\lib\\site-packages (from albumentations->-r ./req.txt (line 7)) (4.12.2)\n",
      "Collecting pydantic>=2.7.0 (from albumentations->-r ./req.txt (line 7))\n",
      "  Using cached pydantic-2.8.2-py3-none-any.whl.metadata (125 kB)\n",
      "Collecting albucore>=0.0.13 (from albumentations->-r ./req.txt (line 7))\n",
      "  Using cached albucore-0.0.13-py3-none-any.whl.metadata (3.1 kB)\n",
      "Collecting eval-type-backport (from albumentations->-r ./req.txt (line 7))\n",
      "  Using cached eval_type_backport-0.2.0-py3-none-any.whl.metadata (2.2 kB)\n",
      "Collecting opencv-python-headless>=4.9.0.80 (from albumentations->-r ./req.txt (line 7))\n",
      "  Using cached opencv_python_headless-4.10.0.84-cp37-abi3-win_amd64.whl.metadata (20 kB)\n",
      "Requirement already satisfied: tensorflow-intel==2.17.0 in c:\\users\\wenshen\\anaconda3\\envs\\aikka\\lib\\site-packages (from tensorflow->-r ./req.txt (line 9)) (2.17.0)\n",
      "Requirement already satisfied: absl-py>=1.0.0 in c:\\users\\wenshen\\anaconda3\\envs\\aikka\\lib\\site-packages (from tensorflow-intel==2.17.0->tensorflow->-r ./req.txt (line 9)) (2.1.0)\n",
      "Requirement already satisfied: astunparse>=1.6.0 in c:\\users\\wenshen\\anaconda3\\envs\\aikka\\lib\\site-packages (from tensorflow-intel==2.17.0->tensorflow->-r ./req.txt (line 9)) (1.6.3)\n",
      "Requirement already satisfied: flatbuffers>=24.3.25 in c:\\users\\wenshen\\anaconda3\\envs\\aikka\\lib\\site-packages (from tensorflow-intel==2.17.0->tensorflow->-r ./req.txt (line 9)) (24.3.25)\n",
      "Requirement already satisfied: gast!=0.5.0,!=0.5.1,!=0.5.2,>=0.2.1 in c:\\users\\wenshen\\anaconda3\\envs\\aikka\\lib\\site-packages (from tensorflow-intel==2.17.0->tensorflow->-r ./req.txt (line 9)) (0.4.0)\n",
      "Requirement already satisfied: google-pasta>=0.1.1 in c:\\users\\wenshen\\anaconda3\\envs\\aikka\\lib\\site-packages (from tensorflow-intel==2.17.0->tensorflow->-r ./req.txt (line 9)) (0.2.0)\n",
      "Requirement already satisfied: h5py>=3.10.0 in c:\\users\\wenshen\\anaconda3\\envs\\aikka\\lib\\site-packages (from tensorflow-intel==2.17.0->tensorflow->-r ./req.txt (line 9)) (3.11.0)\n",
      "Requirement already satisfied: libclang>=13.0.0 in c:\\users\\wenshen\\anaconda3\\envs\\aikka\\lib\\site-packages (from tensorflow-intel==2.17.0->tensorflow->-r ./req.txt (line 9)) (18.1.1)\n",
      "Requirement already satisfied: ml-dtypes<0.5.0,>=0.3.1 in c:\\users\\wenshen\\anaconda3\\envs\\aikka\\lib\\site-packages (from tensorflow-intel==2.17.0->tensorflow->-r ./req.txt (line 9)) (0.4.0)\n",
      "Requirement already satisfied: opt-einsum>=2.3.2 in c:\\users\\wenshen\\anaconda3\\envs\\aikka\\lib\\site-packages (from tensorflow-intel==2.17.0->tensorflow->-r ./req.txt (line 9)) (3.3.0)\n",
      "Collecting protobuf!=4.21.0,!=4.21.1,!=4.21.2,!=4.21.3,!=4.21.4,!=4.21.5,<5.0.0dev,>=3.20.3 (from tensorflow-intel==2.17.0->tensorflow->-r ./req.txt (line 9))\n",
      "  Using cached protobuf-4.25.4-cp39-cp39-win_amd64.whl.metadata (541 bytes)\n",
      "Requirement already satisfied: requests<3,>=2.21.0 in c:\\users\\wenshen\\anaconda3\\envs\\aikka\\lib\\site-packages (from tensorflow-intel==2.17.0->tensorflow->-r ./req.txt (line 9)) (2.32.3)\n",
      "Requirement already satisfied: setuptools in c:\\users\\wenshen\\anaconda3\\envs\\aikka\\lib\\site-packages (from tensorflow-intel==2.17.0->tensorflow->-r ./req.txt (line 9)) (72.1.0)\n",
      "Requirement already satisfied: six>=1.12.0 in c:\\users\\wenshen\\anaconda3\\envs\\aikka\\lib\\site-packages (from tensorflow-intel==2.17.0->tensorflow->-r ./req.txt (line 9)) (1.16.0)\n",
      "Requirement already satisfied: termcolor>=1.1.0 in c:\\users\\wenshen\\anaconda3\\envs\\aikka\\lib\\site-packages (from tensorflow-intel==2.17.0->tensorflow->-r ./req.txt (line 9)) (2.4.0)\n",
      "Requirement already satisfied: wrapt>=1.11.0 in c:\\users\\wenshen\\anaconda3\\envs\\aikka\\lib\\site-packages (from tensorflow-intel==2.17.0->tensorflow->-r ./req.txt (line 9)) (1.16.0)\n",
      "Requirement already satisfied: grpcio<2.0,>=1.24.3 in c:\\users\\wenshen\\anaconda3\\envs\\aikka\\lib\\site-packages (from tensorflow-intel==2.17.0->tensorflow->-r ./req.txt (line 9)) (1.65.4)\n",
      "Collecting tensorboard<2.18,>=2.17 (from tensorflow-intel==2.17.0->tensorflow->-r ./req.txt (line 9))\n",
      "  Using cached tensorboard-2.17.1-py3-none-any.whl.metadata (1.6 kB)\n",
      "Collecting keras (from -r ./req.txt (line 8))\n",
      "  Using cached keras-3.5.0-py3-none-any.whl.metadata (5.8 kB)\n",
      "Requirement already satisfied: tensorflow-io-gcs-filesystem>=0.23.1 in c:\\users\\wenshen\\anaconda3\\envs\\aikka\\lib\\site-packages (from tensorflow-intel==2.17.0->tensorflow->-r ./req.txt (line 9)) (0.31.0)\n",
      "Requirement already satisfied: rich in c:\\users\\wenshen\\anaconda3\\envs\\aikka\\lib\\site-packages (from keras->-r ./req.txt (line 8)) (13.7.1)\n",
      "Requirement already satisfied: namex in c:\\users\\wenshen\\anaconda3\\envs\\aikka\\lib\\site-packages (from keras->-r ./req.txt (line 8)) (0.0.8)\n",
      "Requirement already satisfied: optree in c:\\users\\wenshen\\anaconda3\\envs\\aikka\\lib\\site-packages (from keras->-r ./req.txt (line 8)) (0.12.1)\n",
      "Requirement already satisfied: filelock in c:\\users\\wenshen\\anaconda3\\envs\\aikka\\lib\\site-packages (from torch->-r ./req.txt (line 10)) (3.15.4)\n",
      "Requirement already satisfied: sympy in c:\\users\\wenshen\\anaconda3\\envs\\aikka\\lib\\site-packages (from torch->-r ./req.txt (line 10)) (1.13.1)\n",
      "Requirement already satisfied: networkx in c:\\users\\wenshen\\anaconda3\\envs\\aikka\\lib\\site-packages (from torch->-r ./req.txt (line 10)) (3.2.1)\n",
      "Requirement already satisfied: fsspec in c:\\users\\wenshen\\anaconda3\\envs\\aikka\\lib\\site-packages (from torch->-r ./req.txt (line 10)) (2024.6.1)\n",
      "Requirement already satisfied: mkl<=2021.4.0,>=2021.1.1 in c:\\users\\wenshen\\anaconda3\\envs\\aikka\\lib\\site-packages (from torch->-r ./req.txt (line 10)) (2021.4.0)\n",
      "Requirement already satisfied: colorama in c:\\users\\wenshen\\anaconda3\\envs\\aikka\\lib\\site-packages (from tqdm->-r ./req.txt (line 11)) (0.4.6)\n",
      "Collecting kt-legacy (from keras-tuner->-r ./req.txt (line 13))\n",
      "  Using cached kt_legacy-1.0.5-py3-none-any.whl.metadata (221 bytes)\n",
      "Requirement already satisfied: joblib>=1.2.0 in c:\\users\\wenshen\\anaconda3\\envs\\aikka\\lib\\site-packages (from scikit-learn->-r ./req.txt (line 14)) (1.4.2)\n",
      "Requirement already satisfied: threadpoolctl>=3.1.0 in c:\\users\\wenshen\\anaconda3\\envs\\aikka\\lib\\site-packages (from scikit-learn->-r ./req.txt (line 14)) (3.5.0)\n",
      "Collecting tomli>=2.0.1 (from albucore>=0.0.13->albumentations->-r ./req.txt (line 7))\n",
      "  Using cached tomli-2.0.1-py3-none-any.whl.metadata (8.9 kB)\n",
      "Requirement already satisfied: zipp>=3.1.0 in c:\\users\\wenshen\\anaconda3\\envs\\aikka\\lib\\site-packages (from importlib-resources>=3.2.0->matplotlib->-r ./req.txt (line 4)) (3.19.2)\n",
      "Requirement already satisfied: MarkupSafe>=2.0 in c:\\users\\wenshen\\anaconda3\\envs\\aikka\\lib\\site-packages (from Jinja2>=2.9->bokeh->-r ./req.txt (line 6)) (2.1.5)\n",
      "Requirement already satisfied: intel-openmp==2021.* in c:\\users\\wenshen\\anaconda3\\envs\\aikka\\lib\\site-packages (from mkl<=2021.4.0,>=2021.1.1->torch->-r ./req.txt (line 10)) (2021.4.0)\n",
      "Requirement already satisfied: tbb==2021.* in c:\\users\\wenshen\\anaconda3\\envs\\aikka\\lib\\site-packages (from mkl<=2021.4.0,>=2021.1.1->torch->-r ./req.txt (line 10)) (2021.13.1)\n",
      "Collecting annotated-types>=0.4.0 (from pydantic>=2.7.0->albumentations->-r ./req.txt (line 7))\n",
      "  Using cached annotated_types-0.7.0-py3-none-any.whl.metadata (15 kB)\n",
      "Collecting pydantic-core==2.20.1 (from pydantic>=2.7.0->albumentations->-r ./req.txt (line 7))\n",
      "  Downloading pydantic_core-2.20.1-cp39-none-win_amd64.whl.metadata (6.7 kB)\n",
      "Requirement already satisfied: charset-normalizer<4,>=2 in c:\\users\\wenshen\\anaconda3\\envs\\aikka\\lib\\site-packages (from requests<3,>=2.21.0->tensorflow-intel==2.17.0->tensorflow->-r ./req.txt (line 9)) (3.3.2)\n",
      "Requirement already satisfied: idna<4,>=2.5 in c:\\users\\wenshen\\anaconda3\\envs\\aikka\\lib\\site-packages (from requests<3,>=2.21.0->tensorflow-intel==2.17.0->tensorflow->-r ./req.txt (line 9)) (3.7)\n",
      "Requirement already satisfied: urllib3<3,>=1.21.1 in c:\\users\\wenshen\\anaconda3\\envs\\aikka\\lib\\site-packages (from requests<3,>=2.21.0->tensorflow-intel==2.17.0->tensorflow->-r ./req.txt (line 9)) (2.2.2)\n",
      "Requirement already satisfied: certifi>=2017.4.17 in c:\\users\\wenshen\\anaconda3\\envs\\aikka\\lib\\site-packages (from requests<3,>=2.21.0->tensorflow-intel==2.17.0->tensorflow->-r ./req.txt (line 9)) (2024.7.4)\n",
      "Collecting imageio>=2.33 (from scikit-image>=0.21.0->albumentations->-r ./req.txt (line 7))\n",
      "  Using cached imageio-2.35.1-py3-none-any.whl.metadata (4.9 kB)\n",
      "Collecting tifffile>=2022.8.12 (from scikit-image>=0.21.0->albumentations->-r ./req.txt (line 7))\n",
      "  Using cached tifffile-2024.8.10-py3-none-any.whl.metadata (31 kB)\n",
      "Collecting lazy-loader>=0.4 (from scikit-image>=0.21.0->albumentations->-r ./req.txt (line 7))\n",
      "  Using cached lazy_loader-0.4-py3-none-any.whl.metadata (7.6 kB)\n",
      "Requirement already satisfied: markdown-it-py>=2.2.0 in c:\\users\\wenshen\\anaconda3\\envs\\aikka\\lib\\site-packages (from rich->keras->-r ./req.txt (line 8)) (3.0.0)\n",
      "Requirement already satisfied: pygments<3.0.0,>=2.13.0 in c:\\users\\wenshen\\anaconda3\\envs\\aikka\\lib\\site-packages (from rich->keras->-r ./req.txt (line 8)) (2.18.0)\n",
      "Requirement already satisfied: mpmath<1.4,>=1.1.0 in c:\\users\\wenshen\\anaconda3\\envs\\aikka\\lib\\site-packages (from sympy->torch->-r ./req.txt (line 10)) (1.3.0)\n",
      "Requirement already satisfied: wheel<1.0,>=0.23.0 in c:\\users\\wenshen\\anaconda3\\envs\\aikka\\lib\\site-packages (from astunparse>=1.6.0->tensorflow-intel==2.17.0->tensorflow->-r ./req.txt (line 9)) (0.43.0)\n",
      "Requirement already satisfied: mdurl~=0.1 in c:\\users\\wenshen\\anaconda3\\envs\\aikka\\lib\\site-packages (from markdown-it-py>=2.2.0->rich->keras->-r ./req.txt (line 8)) (0.1.2)\n",
      "Requirement already satisfied: markdown>=2.6.8 in c:\\users\\wenshen\\anaconda3\\envs\\aikka\\lib\\site-packages (from tensorboard<2.18,>=2.17->tensorflow-intel==2.17.0->tensorflow->-r ./req.txt (line 9)) (3.6)\n",
      "Collecting tensorboard-data-server<0.8.0,>=0.7.0 (from tensorboard<2.18,>=2.17->tensorflow-intel==2.17.0->tensorflow->-r ./req.txt (line 9))\n",
      "  Using cached tensorboard_data_server-0.7.2-py3-none-any.whl.metadata (1.1 kB)\n",
      "Requirement already satisfied: werkzeug>=1.0.1 in c:\\users\\wenshen\\anaconda3\\envs\\aikka\\lib\\site-packages (from tensorboard<2.18,>=2.17->tensorflow-intel==2.17.0->tensorflow->-r ./req.txt (line 9)) (3.0.3)\n",
      "Requirement already satisfied: importlib-metadata>=4.4 in c:\\users\\wenshen\\anaconda3\\envs\\aikka\\lib\\site-packages (from markdown>=2.6.8->tensorboard<2.18,>=2.17->tensorflow-intel==2.17.0->tensorflow->-r ./req.txt (line 9)) (8.2.0)\n",
      "Using cached seaborn-0.13.2-py3-none-any.whl (294 kB)\n",
      "Downloading bokeh-3.4.3-py3-none-any.whl (7.0 MB)\n",
      "   ---------------------------------------- 0.0/7.0 MB ? eta -:--:--\n",
      "   ---------------------------------------- 0.1/7.0 MB 1.7 MB/s eta 0:00:05\n",
      "   --- ------------------------------------ 0.6/7.0 MB 8.0 MB/s eta 0:00:01\n",
      "   --------- ------------------------------ 1.6/7.0 MB 12.6 MB/s eta 0:00:01\n",
      "   ------------- -------------------------- 2.4/7.0 MB 13.7 MB/s eta 0:00:01\n",
      "   ------------------ --------------------- 3.2/7.0 MB 14.7 MB/s eta 0:00:01\n",
      "   ----------------------- ---------------- 4.1/7.0 MB 15.5 MB/s eta 0:00:01\n",
      "   ---------------------------- ----------- 5.0/7.0 MB 16.0 MB/s eta 0:00:01\n",
      "   -------------------------------- ------- 5.8/7.0 MB 16.1 MB/s eta 0:00:01\n",
      "   ------------------------------------- -- 6.6/7.0 MB 16.2 MB/s eta 0:00:01\n",
      "   ---------------------------------------- 7.0/7.0 MB 16.0 MB/s eta 0:00:00\n",
      "Using cached albumentations-1.4.14-py3-none-any.whl (177 kB)\n",
      "Using cached keras-3.5.0-py3-none-any.whl (1.1 MB)\n",
      "Using cached keras_tuner-1.4.7-py3-none-any.whl (129 kB)\n",
      "Using cached albucore-0.0.13-py3-none-any.whl (8.5 kB)\n",
      "Using cached opencv_python_headless-4.10.0.84-cp37-abi3-win_amd64.whl (38.8 MB)\n",
      "Using cached pydantic-2.8.2-py3-none-any.whl (423 kB)\n",
      "Downloading pydantic_core-2.20.1-cp39-none-win_amd64.whl (1.9 MB)\n",
      "   ---------------------------------------- 0.0/1.9 MB ? eta -:--:--\n",
      "   ------------------------ --------------- 1.1/1.9 MB 24.2 MB/s eta 0:00:01\n",
      "   ---------------------------------------- 1.9/1.9 MB 24.3 MB/s eta 0:00:00\n",
      "Downloading PyYAML-6.0.2-cp39-cp39-win_amd64.whl (162 kB)\n",
      "   ---------------------------------------- 0.0/162.3 kB ? eta -:--:--\n",
      "   ---------------------------------------- 162.3/162.3 kB ? eta 0:00:00\n",
      "Downloading scikit_image-0.24.0-cp39-cp39-win_amd64.whl (12.9 MB)\n",
      "   ---------------------------------------- 0.0/12.9 MB ? eta -:--:--\n",
      "   -- ------------------------------------- 1.0/12.9 MB 20.0 MB/s eta 0:00:01\n",
      "   ----- ---------------------------------- 1.9/12.9 MB 20.1 MB/s eta 0:00:01\n",
      "   -------- ------------------------------- 2.9/12.9 MB 20.5 MB/s eta 0:00:01\n",
      "   ----------- ---------------------------- 3.6/12.9 MB 19.4 MB/s eta 0:00:01\n",
      "   ------------- -------------------------- 4.4/12.9 MB 20.2 MB/s eta 0:00:01\n",
      "   ---------------- ----------------------- 5.3/12.9 MB 18.9 MB/s eta 0:00:01\n",
      "   --------------------- ------------------ 6.8/12.9 MB 20.6 MB/s eta 0:00:01\n",
      "   ------------------------ --------------- 7.8/12.9 MB 21.8 MB/s eta 0:00:01\n",
      "   --------------------------- ------------ 8.8/12.9 MB 20.9 MB/s eta 0:00:01\n",
      "   ------------------------------- -------- 10.3/12.9 MB 21.9 MB/s eta 0:00:01\n",
      "   ---------------------------------- ----- 11.0/12.9 MB 21.1 MB/s eta 0:00:01\n",
      "   ------------------------------------- -- 12.0/12.9 MB 22.5 MB/s eta 0:00:01\n",
      "   -------------------------------------- - 12.5/12.9 MB 20.5 MB/s eta 0:00:01\n",
      "   ---------------------------------------  12.9/12.9 MB 19.3 MB/s eta 0:00:01\n",
      "   ---------------------------------------- 12.9/12.9 MB 18.7 MB/s eta 0:00:00\n",
      "Using cached xyzservices-2024.6.0-py3-none-any.whl (83 kB)\n",
      "Using cached eval_type_backport-0.2.0-py3-none-any.whl (5.9 kB)\n",
      "Using cached kt_legacy-1.0.5-py3-none-any.whl (9.6 kB)\n",
      "Using cached annotated_types-0.7.0-py3-none-any.whl (13 kB)\n",
      "Using cached imageio-2.35.1-py3-none-any.whl (315 kB)\n",
      "Using cached lazy_loader-0.4-py3-none-any.whl (12 kB)\n",
      "Using cached protobuf-4.25.4-cp39-cp39-win_amd64.whl (413 kB)\n",
      "Using cached tensorboard-2.17.1-py3-none-any.whl (5.5 MB)\n",
      "Using cached tifffile-2024.8.10-py3-none-any.whl (225 kB)\n",
      "Using cached tomli-2.0.1-py3-none-any.whl (12 kB)\n",
      "Using cached tensorboard_data_server-0.7.2-py3-none-any.whl (2.4 kB)\n",
      "Building wheels for collected packages: mrcnn\n",
      "  Building wheel for mrcnn (setup.py): started\n",
      "  Building wheel for mrcnn (setup.py): finished with status 'done'\n",
      "  Created wheel for mrcnn: filename=mrcnn-0.2-py3-none-any.whl size=54916 sha256=3f3c343de0fa565cc5dc954cf8d48d60be0aefce6ff3b7b45e58ffc21f4ea1e5\n",
      "  Stored in directory: c:\\users\\wenshen\\appdata\\local\\pip\\cache\\wheels\\d3\\b8\\c5\\e10b9670fc88bf24cd34172f752e81f91dd0a2a7dca841ce2f\n",
      "Successfully built mrcnn\n",
      "Installing collected packages: mrcnn, kt-legacy, xyzservices, tomli, tifffile, tensorboard-data-server, PyYAML, pydantic-core, protobuf, opencv-python-headless, lazy-loader, imageio, eval-type-backport, annotated-types, scikit-image, pydantic, albucore, tensorboard, seaborn, keras, bokeh, albumentations, keras-tuner\n",
      "  Attempting uninstall: tensorboard-data-server\n",
      "    Found existing installation: tensorboard-data-server 0.6.1\n",
      "    Uninstalling tensorboard-data-server-0.6.1:\n",
      "      Successfully uninstalled tensorboard-data-server-0.6.1\n",
      "  Attempting uninstall: protobuf\n",
      "    Found existing installation: protobuf 3.19.6\n",
      "    Uninstalling protobuf-3.19.6:\n",
      "      Successfully uninstalled protobuf-3.19.6\n",
      "  Attempting uninstall: tensorboard\n",
      "    Found existing installation: tensorboard 2.10.1\n",
      "    Uninstalling tensorboard-2.10.1:\n",
      "      Successfully uninstalled tensorboard-2.10.1\n",
      "  Attempting uninstall: keras\n",
      "    Found existing installation: keras 2.10.0\n",
      "    Uninstalling keras-2.10.0:\n",
      "      Successfully uninstalled keras-2.10.0\n",
      "Successfully installed PyYAML-6.0.2 albucore-0.0.13 albumentations-1.4.14 annotated-types-0.7.0 bokeh-3.4.3 eval-type-backport-0.2.0 imageio-2.35.1 keras-3.5.0 keras-tuner-1.4.7 kt-legacy-1.0.5 lazy-loader-0.4 mrcnn-0.2 opencv-python-headless-4.10.0.84 protobuf-4.25.4 pydantic-2.8.2 pydantic-core-2.20.1 scikit-image-0.24.0 seaborn-0.13.2 tensorboard-2.17.1 tensorboard-data-server-0.7.2 tifffile-2024.8.10 tomli-2.0.1 xyzservices-2024.6.0\n",
      "Note: you may need to restart the kernel to use updated packages.\n"
     ]
    },
    {
     "name": "stderr",
     "output_type": "stream",
     "text": [
      "  WARNING: Failed to remove contents in a temporary directory 'C:\\Users\\WenShen\\anaconda3\\envs\\Aikka\\Lib\\site-packages\\google\\~rotobuf'.\n",
      "  You can safely remove it manually.\n",
      "ERROR: pip's dependency resolver does not currently take into account all the packages that are installed. This behaviour is the source of the following dependency conflicts.\n",
      "tensorflow-gpu 2.10.0 requires keras<2.11,>=2.10.0, but you have keras 3.5.0 which is incompatible.\n",
      "tensorflow-gpu 2.10.0 requires protobuf<3.20,>=3.9.2, but you have protobuf 4.25.4 which is incompatible.\n",
      "tensorflow-gpu 2.10.0 requires tensorboard<2.11,>=2.10, but you have tensorboard 2.17.1 which is incompatible.\n"
     ]
    }
   ],
   "source": [
    "pip install -r ./req.txt"
   ]
  },
  {
   "cell_type": "code",
   "execution_count": 6,
   "metadata": {},
   "outputs": [
    {
     "name": "stdout",
     "output_type": "stream",
     "text": [
      "Requirement already satisfied: bokeh in c:\\users\\wenshen\\anaconda3\\envs\\aikka\\lib\\site-packages (3.4.3)\n",
      "Requirement already satisfied: Jinja2>=2.9 in c:\\users\\wenshen\\anaconda3\\envs\\aikka\\lib\\site-packages (from bokeh) (3.1.4)\n",
      "Requirement already satisfied: contourpy>=1.2 in c:\\users\\wenshen\\anaconda3\\envs\\aikka\\lib\\site-packages (from bokeh) (1.2.1)\n",
      "Requirement already satisfied: numpy>=1.16 in c:\\users\\wenshen\\anaconda3\\envs\\aikka\\lib\\site-packages (from bokeh) (1.26.4)\n",
      "Requirement already satisfied: packaging>=16.8 in c:\\users\\wenshen\\anaconda3\\envs\\aikka\\lib\\site-packages (from bokeh) (24.1)\n",
      "Requirement already satisfied: pandas>=1.2 in c:\\users\\wenshen\\anaconda3\\envs\\aikka\\lib\\site-packages (from bokeh) (2.2.2)\n",
      "Requirement already satisfied: pillow>=7.1.0 in c:\\users\\wenshen\\anaconda3\\envs\\aikka\\lib\\site-packages (from bokeh) (10.4.0)\n",
      "Requirement already satisfied: PyYAML>=3.10 in c:\\users\\wenshen\\anaconda3\\envs\\aikka\\lib\\site-packages (from bokeh) (6.0.2)\n",
      "Requirement already satisfied: tornado>=6.2 in c:\\users\\wenshen\\anaconda3\\envs\\aikka\\lib\\site-packages (from bokeh) (6.4.1)\n",
      "Requirement already satisfied: xyzservices>=2021.09.1 in c:\\users\\wenshen\\anaconda3\\envs\\aikka\\lib\\site-packages (from bokeh) (2024.6.0)\n",
      "Requirement already satisfied: MarkupSafe>=2.0 in c:\\users\\wenshen\\anaconda3\\envs\\aikka\\lib\\site-packages (from Jinja2>=2.9->bokeh) (2.1.5)\n",
      "Requirement already satisfied: python-dateutil>=2.8.2 in c:\\users\\wenshen\\anaconda3\\envs\\aikka\\lib\\site-packages (from pandas>=1.2->bokeh) (2.9.0)\n",
      "Requirement already satisfied: pytz>=2020.1 in c:\\users\\wenshen\\anaconda3\\envs\\aikka\\lib\\site-packages (from pandas>=1.2->bokeh) (2024.1)\n",
      "Requirement already satisfied: tzdata>=2022.7 in c:\\users\\wenshen\\anaconda3\\envs\\aikka\\lib\\site-packages (from pandas>=1.2->bokeh) (2024.1)\n",
      "Requirement already satisfied: six>=1.5 in c:\\users\\wenshen\\anaconda3\\envs\\aikka\\lib\\site-packages (from python-dateutil>=2.8.2->pandas>=1.2->bokeh) (1.16.0)\n",
      "Note: you may need to restart the kernel to use updated packages.\n"
     ]
    }
   ],
   "source": [
    "%pip install --upgrade bokeh"
   ]
  },
  {
   "cell_type": "code",
   "execution_count": 5,
   "metadata": {},
   "outputs": [
    {
     "name": "stdout",
     "output_type": "stream",
     "text": [
      "Requirement already satisfied: mrcnn in ./.venv/lib/python3.10/site-packages (0.2)\n",
      "Note: you may need to restart the kernel to use updated packages.\n"
     ]
    }
   ],
   "source": [
    "pip install mrcnn"
   ]
  },
  {
   "cell_type": "code",
   "execution_count": 10,
   "metadata": {},
   "outputs": [
    {
     "name": "stdout",
     "output_type": "stream",
     "text": [
      "2.10.0\n"
     ]
    }
   ],
   "source": [
    "import tensorflow\n",
    "print(tensorflow.__version__)"
   ]
  },
  {
   "cell_type": "code",
   "execution_count": 4,
   "metadata": {},
   "outputs": [
    {
     "name": "stdout",
     "output_type": "stream",
     "text": [
      "Note: you may need to restart the kernel to use updated packages.\n"
     ]
    },
    {
     "name": "stderr",
     "output_type": "stream",
     "text": [
      "WARNING: Package(s) not found: mediapipe\n"
     ]
    }
   ],
   "source": [
    "pip show mediapipe"
   ]
  },
  {
   "cell_type": "code",
   "execution_count": 2,
   "metadata": {},
   "outputs": [
    {
     "name": "stdout",
     "output_type": "stream",
     "text": [
      "Collecting protobuf==3.20.*\n",
      "  Downloading protobuf-3.20.3-cp39-cp39-win_amd64.whl.metadata (699 bytes)\n",
      "Downloading protobuf-3.20.3-cp39-cp39-win_amd64.whl (904 kB)\n",
      "   ---------------------------------------- 0.0/904.2 kB ? eta -:--:--\n",
      "   ----------------------- ---------------- 524.3/904.2 kB 3.4 MB/s eta 0:00:01\n",
      "   ---------------------------------------- 904.2/904.2 kB 5.1 MB/s eta 0:00:00\n",
      "Installing collected packages: protobuf\n",
      "  Attempting uninstall: protobuf\n",
      "    Found existing installation: protobuf 4.25.4\n",
      "    Uninstalling protobuf-4.25.4:\n",
      "      Successfully uninstalled protobuf-4.25.4\n",
      "Successfully installed protobuf-3.20.3\n",
      "Note: you may need to restart the kernel to use updated packages.\n"
     ]
    },
    {
     "name": "stderr",
     "output_type": "stream",
     "text": [
      "  WARNING: Failed to remove contents in a temporary directory 'C:\\Users\\WenShen\\anaconda3\\envs\\Aikka\\Lib\\site-packages\\google\\~upb'.\n",
      "  You can safely remove it manually.\n",
      "ERROR: pip's dependency resolver does not currently take into account all the packages that are installed. This behaviour is the source of the following dependency conflicts.\n",
      "mediapipe 0.10.14 requires protobuf<5,>=4.25.3, but you have protobuf 3.20.3 which is incompatible.\n",
      "tensorflow-gpu 2.10.0 requires protobuf<3.20,>=3.9.2, but you have protobuf 3.20.3 which is incompatible.\n",
      "tensorflow-gpu 2.10.0 requires tensorboard<2.11,>=2.10, but you have tensorboard 2.17.1 which is incompatible.\n",
      "tensorflow-intel 2.17.0 requires keras>=3.2.0, but you have keras 2.10.0 which is incompatible.\n"
     ]
    }
   ],
   "source": [
    "pip install protobuf==3.20.*"
   ]
  },
  {
   "cell_type": "code",
   "execution_count": 1,
   "metadata": {},
   "outputs": [
    {
     "name": "stdout",
     "output_type": "stream",
     "text": [
      "Available devices:\n",
      "PhysicalDevice(name='/physical_device:CPU:0', device_type='CPU')\n",
      "PhysicalDevice(name='/physical_device:GPU:0', device_type='GPU')\n",
      "GPU is available:  [PhysicalDevice(name='/physical_device:GPU:0', device_type='GPU')]\n",
      "Name: /physical_device:GPU:0   Type: GPU\n"
     ]
    }
   ],
   "source": [
    "import tensorflow as tf\n",
    "\n",
    "# List all available devices\n",
    "print(\"Available devices:\")\n",
    "devices = tf.config.list_physical_devices()\n",
    "for device in devices:\n",
    "    print(device)\n",
    "\n",
    "# Check for GPU specifically (Metal for M1 Macs)\n",
    "gpu_devices = tf.config.list_physical_devices('GPU')\n",
    "if gpu_devices:\n",
    "    print(\"GPU is available: \", gpu_devices)\n",
    "    for gpu in gpu_devices:\n",
    "        print(\"Name:\", gpu.name, \"  Type:\", gpu.device_type)\n",
    "else:\n",
    "    print(\"GPU not available.\")"
   ]
  },
  {
   "cell_type": "code",
   "execution_count": 2,
   "metadata": {},
   "outputs": [
    {
     "name": "stdout",
     "output_type": "stream",
     "text": [
      "CUDA device not found.\n"
     ]
    }
   ],
   "source": [
    "import torch\n",
    "\n",
    "if torch.cuda.is_available():\n",
    "    cuda_device = torch.device(\"cuda\")\n",
    "    x = torch.ones(1, device=cuda_device)\n",
    "    print(x)\n",
    "else:\n",
    "    print(\"CUDA device not found.\")"
   ]
  },
  {
   "cell_type": "markdown",
   "metadata": {},
   "source": [
    "CustomCNN ver3 env cudnn 8.1, Cuda toolkit 11.2, tensorflow_gpu == 2.10.0, tensorflow==2.17.0//2.10.0"
   ]
  }
 ],
 "metadata": {
  "kernelspec": {
   "display_name": ".venv",
   "language": "python",
   "name": "python3"
  },
  "language_info": {
   "codemirror_mode": {
    "name": "ipython",
    "version": 3
   },
   "file_extension": ".py",
   "mimetype": "text/x-python",
   "name": "python",
   "nbconvert_exporter": "python",
   "pygments_lexer": "ipython3",
   "version": "3.11.7"
  }
 },
 "nbformat": 4,
 "nbformat_minor": 2
}
